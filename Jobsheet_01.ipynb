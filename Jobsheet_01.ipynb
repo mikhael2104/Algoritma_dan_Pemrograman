{
  "nbformat": 4,
  "nbformat_minor": 0,
  "metadata": {
    "colab": {
      "provenance": [],
      "authorship_tag": "ABX9TyNKTxaRHbOQy5kdOaZuDnKo",
      "include_colab_link": true
    },
    "kernelspec": {
      "name": "python3",
      "display_name": "Python 3"
    },
    "language_info": {
      "name": "python"
    }
  },
  "cells": [
    {
      "cell_type": "markdown",
      "metadata": {
        "id": "view-in-github",
        "colab_type": "text"
      },
      "source": [
        "<a href=\"https://colab.research.google.com/github/mikhael2104/Algoritma_dan_Pemrograman/blob/main/Jobsheet_01.ipynb\" target=\"_parent\"><img src=\"https://colab.research.google.com/assets/colab-badge.svg\" alt=\"Open In Colab\"/></a>"
      ]
    },
    {
      "cell_type": "markdown",
      "source": [
        "# Praktikum 01 - Menghitung luas persegi panjang\n",
        "\n",
        "```\n",
        "# This is formatted as code\n",
        "```\n",
        "\n"
      ],
      "metadata": {
        "id": "Yc7p7SQM2kmA"
      }
    },
    {
      "cell_type": "code",
      "execution_count": null,
      "metadata": {
        "colab": {
          "base_uri": "https://localhost:8080/"
        },
        "id": "SyANkmbx1yfC",
        "outputId": "7b2f6158-3f82-4757-cc7c-c3a22f442761"
      },
      "outputs": [
        {
          "output_type": "stream",
          "name": "stdout",
          "text": [
            "Masukkan panjang:10\n",
            "Masukkan lebar:10\n",
            "Luas persegi panjang adalah =  100\n"
          ]
        }
      ],
      "source": [
        "p = int (input(\"Masukkan panjang:\"))\n",
        "l = int (input(\"Masukkan lebar:\"))\n",
        "luas = (p*l)\n",
        "print(\"Luas persegi panjang adalah = \", luas)"
      ]
    },
    {
      "cell_type": "markdown",
      "source": [
        "#Praktikum 02 - Menghitung Luas Segitiga"
      ],
      "metadata": {
        "id": "VtXRz4C-4FUV"
      }
    },
    {
      "cell_type": "code",
      "source": [
        "import math\n",
        "\n",
        "a = float(input(\"masukkan nilai a: \"))\n",
        "b = float(input(\"masukkan nilai b: \"))\n",
        "c = float(input(\"masukkan nilai c: \"))\n",
        "\n",
        "s = (a + b + c)/2\n",
        "luas = math.sqrt(s*(s-a)*(s-b)*(s-c))\n",
        "print(\"Luas segitiga = \", luas)"
      ],
      "metadata": {
        "id": "dh3hTfp03acd",
        "colab": {
          "base_uri": "https://localhost:8080/"
        },
        "outputId": "e4d4d052-732d-4a5e-f2d5-e7c63657895a"
      },
      "execution_count": 4,
      "outputs": [
        {
          "output_type": "stream",
          "name": "stdout",
          "text": [
            "masukkan nilai a: 10\n",
            "masukkan nilai b: 10\n",
            "masukkan nilai c: 0\n",
            "Luas segitiga =  0.0\n"
          ]
        }
      ]
    },
    {
      "cell_type": "markdown",
      "source": [
        "#Praktikum 03 - Konversi suhu dari Celcius ke Fahrenheit"
      ],
      "metadata": {
        "id": "oq6GWwns9jQ3"
      }
    },
    {
      "cell_type": "code",
      "source": [
        "c = float(input(\"Masukkan suhu Celcius ° = \"))\n",
        "f = (c * 9/5) + 32\n",
        "print(\"Hasil konversi\", f, \"°F\")"
      ],
      "metadata": {
        "id": "XUqGWQNp81YG"
      },
      "execution_count": null,
      "outputs": []
    }
  ]
}