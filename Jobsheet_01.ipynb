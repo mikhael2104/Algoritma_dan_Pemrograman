{
  "nbformat": 4,
  "nbformat_minor": 0,
  "metadata": {
    "colab": {
      "provenance": [],
      "authorship_tag": "ABX9TyN1Ob73dgnoT7FnvjElyhmO",
      "include_colab_link": true
    },
    "kernelspec": {
      "name": "python3",
      "display_name": "Python 3"
    },
    "language_info": {
      "name": "python"
    }
  },
  "cells": [
    {
      "cell_type": "markdown",
      "metadata": {
        "id": "view-in-github",
        "colab_type": "text"
      },
      "source": [
        "<a href=\"https://colab.research.google.com/github/mikhael2104/Algoritma_dan_Pemrograman/blob/main/Jobsheet_01.ipynb\" target=\"_parent\"><img src=\"https://colab.research.google.com/assets/colab-badge.svg\" alt=\"Open In Colab\"/></a>"
      ]
    },
    {
      "cell_type": "markdown",
      "source": [
        "# Praktikum 01 - Menghitung luas persegi panjang\n",
        "\n",
        "```\n",
        "# This is formatted as code\n",
        "```\n",
        "\n"
      ],
      "metadata": {
        "id": "Yc7p7SQM2kmA"
      }
    },
    {
      "cell_type": "code",
      "execution_count": null,
      "metadata": {
        "colab": {
          "base_uri": "https://localhost:8080/"
        },
        "id": "SyANkmbx1yfC",
        "outputId": "7b2f6158-3f82-4757-cc7c-c3a22f442761"
      },
      "outputs": [
        {
          "output_type": "stream",
          "name": "stdout",
          "text": [
            "Masukkan panjang:10\n",
            "Masukkan lebar:10\n",
            "Luas persegi panjang adalah =  100\n"
          ]
        }
      ],
      "source": [
        "p = int (input(\"Masukkan panjang:\"))\n",
        "l = int (input(\"Masukkan lebar:\"))\n",
        "luas = (p*l)\n",
        "print(\"Luas persegi panjang adalah = \", luas)"
      ]
    },
    {
      "cell_type": "markdown",
      "source": [
        "#Praktikum 02 - Menghitung Luas Segitiga"
      ],
      "metadata": {
        "id": "VtXRz4C-4FUV"
      }
    },
    {
      "cell_type": "code",
      "source": [
        "import math\n",
        "\n",
        "a = float(input(\"masukkan nilai a: \"))\n",
        "b = float(input(\"masukkan nilai b: \"))\n",
        "c = float(input(\"masukkan nilai c: \"))\n",
        "\n",
        "s = (a + b + c)/2\n",
        "luas = math.sqrt(s*(s-a)*(s-b)*(s-c))\n",
        "print(\"Luas segitiga = \", luas)"
      ],
      "metadata": {
        "id": "dh3hTfp03acd",
        "colab": {
          "base_uri": "https://localhost:8080/"
        },
        "outputId": "eb70c49e-fb04-4b6b-de24-75108f5437aa"
      },
      "execution_count": null,
      "outputs": [
        {
          "output_type": "stream",
          "name": "stdout",
          "text": [
            "masukkan nilai a: 10\n",
            "masukkan nilai b: 10\n",
            "masukkan nilai c: 10\n",
            "Luas segitiga =  43.30127018922193\n"
          ]
        }
      ]
    },
    {
      "cell_type": "markdown",
      "source": [
        "#Praktikum 03 - Konversi suhu dari Celcius ke Fahrenheit"
      ],
      "metadata": {
        "id": "oq6GWwns9jQ3"
      }
    },
    {
      "cell_type": "code",
      "source": [
        "c = float(input(\"Masukkan suhu Celcius ° = \"))\n",
        "f = (c * 9/5) + 32\n",
        "print(\"Hasil konversi\", f, \"°F\")"
      ],
      "metadata": {
        "id": "XUqGWQNp81YG",
        "colab": {
          "base_uri": "https://localhost:8080/"
        },
        "outputId": "ea967901-dc29-4fb9-f521-d092ee0c82d6"
      },
      "execution_count": null,
      "outputs": [
        {
          "output_type": "stream",
          "name": "stdout",
          "text": [
            "Masukkan suhu Celcius ° = 20\n",
            "Hasil konversi 68.0 °F\n"
          ]
        }
      ]
    },
    {
      "cell_type": "markdown",
      "source": [
        "#Praktikum 04 - Menghitung Umur Berdasarkan Tahun Lahir"
      ],
      "metadata": {
        "id": "UK9YnSnCASC2"
      }
    },
    {
      "cell_type": "code",
      "source": [
        "tahun_lahir = int(input(\"Masukkan tanggal lahir: \"))\n",
        "tahun_sekarang = 2025\n",
        "umur = (tahun_sekarang - tahun_lahir)\n",
        "print(\"Umur kamu sekarang adalah = \", umur)"
      ],
      "metadata": {
        "colab": {
          "base_uri": "https://localhost:8080/"
        },
        "id": "O7hFIJTmAD4O",
        "outputId": "acd5b9f7-39a0-4306-9209-c41084c6110f"
      },
      "execution_count": null,
      "outputs": [
        {
          "output_type": "stream",
          "name": "stdout",
          "text": [
            "Masukkan tanggal lahir: 2007\n",
            "Umur kamu sekarang adalah =  18\n"
          ]
        }
      ]
    },
    {
      "cell_type": "markdown",
      "source": [
        "#Praktikum 05 - Menghitung Luas Lingkaran"
      ],
      "metadata": {
        "id": "ddRUdoSXBIdu"
      }
    },
    {
      "cell_type": "code",
      "source": [
        "r = float(input(\"Masukkan Jari-jari = \"))\n",
        "phi = 3.14\n",
        "luas = phi * r * r\n",
        "print(\"Luas lingkaran tersebut adalah = \", luas)"
      ],
      "metadata": {
        "colab": {
          "base_uri": "https://localhost:8080/"
        },
        "id": "gYOu3b0EA0Lt",
        "outputId": "0b1f7b17-7283-4d94-f906-c0b1af9fe8f6"
      },
      "execution_count": null,
      "outputs": [
        {
          "output_type": "stream",
          "name": "stdout",
          "text": [
            "Masukkan Jari-jari = 15\n",
            "Luas lingkaran tersebut adalah =  706.5\n"
          ]
        }
      ]
    },
    {
      "cell_type": "markdown",
      "source": [
        "#Praktikum 06 - Menjumlahkan Tiga Bilangan"
      ],
      "metadata": {
        "id": "vUk06ks2B2uF"
      }
    },
    {
      "cell_type": "code",
      "source": [
        "a = int(input(\"Masukkan Angka Pertama: \"))\n",
        "b = int(input(\"Masukkan Angka Kedua: \"))\n",
        "c = int(input(\"Masukkan Angka ketiga: \"))\n",
        "jumlah = a+b+c\n",
        "print(\"Jumlah ketiga angkat tersebut adalah =\", jumlah)"
      ],
      "metadata": {
        "colab": {
          "base_uri": "https://localhost:8080/"
        },
        "id": "5mHNPaodBvNs",
        "outputId": "497ce771-ef31-41c2-abc8-ed7d20bab043"
      },
      "execution_count": null,
      "outputs": [
        {
          "output_type": "stream",
          "name": "stdout",
          "text": [
            "Masukkan Angka Pertama: 2\n",
            "Masukkan Angka Kedua: 2\n",
            "Masukkan Angka ketiga: 2\n",
            "Jumlah ketiga angkat tersebut adalah = 6\n"
          ]
        }
      ]
    },
    {
      "cell_type": "markdown",
      "source": [
        "#Penugasan - No 3 - Menghitung Volume Balok\n"
      ],
      "metadata": {
        "id": "zRfw4el-thCq"
      }
    },
    {
      "cell_type": "code",
      "source": [
        "p = float(input(\"Masukkan Nilai Panjang = \"))\n",
        "l = float(input(\"Masukkan Nilai Lebar = \"))\n",
        "t = float(input(\"Masukkan Nilai Tinggi = \"))\n",
        "volume = p*l*t\n",
        "print(\"Volume balok tersebut adalah = \", volume)"
      ],
      "metadata": {
        "colab": {
          "base_uri": "https://localhost:8080/"
        },
        "id": "x8aN6bNctp1u",
        "outputId": "daa26960-6a38-46f8-b2a4-bc17d8558106"
      },
      "execution_count": 1,
      "outputs": [
        {
          "output_type": "stream",
          "name": "stdout",
          "text": [
            "Masukkan Nilai Panjang = 10\n",
            "Masukkan Nilai Lebar = 2\n",
            "Masukkan Nilai Tinggi = 2\n",
            "Volume balok tersebut adalah =  40.0\n"
          ]
        }
      ]
    },
    {
      "cell_type": "markdown",
      "source": [
        "#Penugasan - No 4 - Konversi Waktu\n"
      ],
      "metadata": {
        "id": "GEumE-Ae1Z2r"
      }
    },
    {
      "cell_type": "code",
      "source": [
        "detik = int(input(\"Masukkan detik = \"))\n",
        "jam = detik/3600\n",
        "sisa_detik = detik%3600\n",
        "menit = detik/60\n",
        "sisa_detik = sisa_detik%60\n",
        "print(jam, \"jam\", menit, \"menit\", sisa_detik, \"detik\")"
      ],
      "metadata": {
        "id": "rFvewUzR1fIJ",
        "outputId": "abe47a90-064f-4374-ae1f-15ea819db2d4",
        "colab": {
          "base_uri": "https://localhost:8080/"
        }
      },
      "execution_count": 8,
      "outputs": [
        {
          "output_type": "stream",
          "name": "stdout",
          "text": [
            "Masukkan detik = 3671\n",
            "1.0197222222222222 jam 61.18333333333333 menit 11 detik\n"
          ]
        }
      ]
    },
    {
      "cell_type": "markdown",
      "source": [
        "#Penugasan - No 5 - Menghitung nilai rata-rata matakuliah\n"
      ],
      "metadata": {
        "id": "GzYO3C0YCLrZ"
      }
    },
    {
      "cell_type": "code",
      "source": [
        "  n1 = float(input(\"Masukkan nilai pertama = \"))\n",
        "  n2 = float(input(\"Masukkan nilai kedua = \"))\n",
        "  n3 = float(input(\"Masukkan nilai ketiga = \"))\n",
        "\n",
        "  nilaiRerata = (n1 + n2 + n3)/3\n",
        "  if nilaiRerata >= 60:\n",
        "      print (\"Lulus\")\n",
        "  else:\n",
        "      print (\"Tidak Lulus\")\n",
        ""
      ],
      "metadata": {
        "id": "UFR_b0iL2mZv",
        "outputId": "cd2d2012-50f6-4039-f56a-e6b041814e07",
        "colab": {
          "base_uri": "https://localhost:8080/",
          "height": 106
        }
      },
      "execution_count": 11,
      "outputs": [
        {
          "output_type": "error",
          "ename": "SyntaxError",
          "evalue": "Missing parentheses in call to 'print'. Did you mean print(...)? (ipython-input-892309144.py, line 7)",
          "traceback": [
            "\u001b[0;36m  File \u001b[0;32m\"/tmp/ipython-input-892309144.py\"\u001b[0;36m, line \u001b[0;32m7\u001b[0m\n\u001b[0;31m    print \"Lulus\"\u001b[0m\n\u001b[0m    ^\u001b[0m\n\u001b[0;31mSyntaxError\u001b[0m\u001b[0;31m:\u001b[0m Missing parentheses in call to 'print'. Did you mean print(...)?\n"
          ]
        }
      ]
    },
    {
      "cell_type": "code",
      "source": [],
      "metadata": {
        "id": "5Hmb31TiC9nH"
      },
      "execution_count": null,
      "outputs": []
    }
  ]
}