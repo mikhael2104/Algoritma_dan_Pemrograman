{
  "nbformat": 4,
  "nbformat_minor": 0,
  "metadata": {
    "colab": {
      "provenance": [],
      "authorship_tag": "ABX9TyOzF9qQGtREersl3BxwC1+J",
      "include_colab_link": true
    },
    "kernelspec": {
      "name": "python3",
      "display_name": "Python 3"
    },
    "language_info": {
      "name": "python"
    }
  },
  "cells": [
    {
      "cell_type": "markdown",
      "metadata": {
        "id": "view-in-github",
        "colab_type": "text"
      },
      "source": [
        "<a href=\"https://colab.research.google.com/github/mikhael2104/Algoritma_dan_Pemrograman/blob/main/Jobsheet_01.ipynb\" target=\"_parent\"><img src=\"https://colab.research.google.com/assets/colab-badge.svg\" alt=\"Open In Colab\"/></a>"
      ]
    },
    {
      "cell_type": "markdown",
      "source": [
        "# Praktikum 01 - Menghitung luas persegi panjang\n",
        "\n",
        "```\n",
        "# This is formatted as code\n",
        "```\n",
        "\n"
      ],
      "metadata": {
        "id": "Yc7p7SQM2kmA"
      }
    },
    {
      "cell_type": "code",
      "execution_count": null,
      "metadata": {
        "colab": {
          "base_uri": "https://localhost:8080/"
        },
        "id": "SyANkmbx1yfC",
        "outputId": "7b2f6158-3f82-4757-cc7c-c3a22f442761"
      },
      "outputs": [
        {
          "output_type": "stream",
          "name": "stdout",
          "text": [
            "Masukkan panjang:10\n",
            "Masukkan lebar:10\n",
            "Luas persegi panjang adalah =  100\n"
          ]
        }
      ],
      "source": [
        "p = int (input(\"Masukkan panjang:\"))\n",
        "l = int (input(\"Masukkan lebar:\"))\n",
        "luas = (p*l)\n",
        "print(\"Luas persegi panjang adalah = \", luas)"
      ]
    },
    {
      "cell_type": "markdown",
      "source": [
        "#Praktikum 02 - Menghitung Luas Segitiga"
      ],
      "metadata": {
        "id": "VtXRz4C-4FUV"
      }
    },
    {
      "cell_type": "code",
      "source": [
        "import math\n",
        "\n",
        "a = float(input(\"masukkan nilai a: \"))\n",
        "b = float(input(\"masukkan nilai b: \"))\n",
        "c = float(input(\"masukkan nilai c: \"))\n",
        "\n",
        "s = (a + b + c)/2\n",
        "luas = math.sqrt(s*(s-a)*(s-b)*(s-c))\n",
        "print(\"Luas segitiga = \", luas)"
      ],
      "metadata": {
        "id": "dh3hTfp03acd",
        "colab": {
          "base_uri": "https://localhost:8080/"
        },
        "outputId": "e4d4d052-732d-4a5e-f2d5-e7c63657895a"
      },
      "execution_count": null,
      "outputs": [
        {
          "output_type": "stream",
          "name": "stdout",
          "text": [
            "masukkan nilai a: 10\n",
            "masukkan nilai b: 10\n",
            "masukkan nilai c: 0\n",
            "Luas segitiga =  0.0\n"
          ]
        }
      ]
    },
    {
      "cell_type": "markdown",
      "source": [
        "#Praktikum 03 - Konversi suhu dari Celcius ke Fahrenheit"
      ],
      "metadata": {
        "id": "oq6GWwns9jQ3"
      }
    },
    {
      "cell_type": "code",
      "source": [
        "c = float(input(\"Masukkan suhu Celcius ° = \"))\n",
        "f = (c * 9/5) + 32\n",
        "print(\"Hasil konversi\", f, \"°F\")"
      ],
      "metadata": {
        "id": "XUqGWQNp81YG",
        "colab": {
          "base_uri": "https://localhost:8080/"
        },
        "outputId": "ea967901-dc29-4fb9-f521-d092ee0c82d6"
      },
      "execution_count": 2,
      "outputs": [
        {
          "output_type": "stream",
          "name": "stdout",
          "text": [
            "Masukkan suhu Celcius ° = 20\n",
            "Hasil konversi 68.0 °F\n"
          ]
        }
      ]
    },
    {
      "cell_type": "markdown",
      "source": [
        "#Praktikum 04 - Menghitung Umur Berdasarkan Tahun Lahir"
      ],
      "metadata": {
        "id": "UK9YnSnCASC2"
      }
    },
    {
      "cell_type": "code",
      "source": [
        "tahun_lahir = int(input(\"Masukkan tanggal lahir: \"))\n",
        "tahun_sekarang = 2025\n",
        "umur = (tahun_sekarang - tahun_lahir)\n",
        "print(\"Umur kamu sekarang adalah = \", umur)"
      ],
      "metadata": {
        "colab": {
          "base_uri": "https://localhost:8080/"
        },
        "id": "O7hFIJTmAD4O",
        "outputId": "acd5b9f7-39a0-4306-9209-c41084c6110f"
      },
      "execution_count": 3,
      "outputs": [
        {
          "output_type": "stream",
          "name": "stdout",
          "text": [
            "Masukkan tanggal lahir: 2007\n",
            "Umur kamu sekarang adalah =  18\n"
          ]
        }
      ]
    },
    {
      "cell_type": "markdown",
      "source": [
        "#Praktikum 05 - Menghitung Luas Lingkaran"
      ],
      "metadata": {
        "id": "ddRUdoSXBIdu"
      }
    },
    {
      "cell_type": "code",
      "source": [
        "r = float(input(\"Masukkan Jari-jari = \"))\n",
        "phi = 3.14\n",
        "luas = phi * r * r\n",
        "print(\"Luas lingkaran tersebut adalah = \", luas)"
      ],
      "metadata": {
        "colab": {
          "base_uri": "https://localhost:8080/"
        },
        "id": "gYOu3b0EA0Lt",
        "outputId": "0b1f7b17-7283-4d94-f906-c0b1af9fe8f6"
      },
      "execution_count": 4,
      "outputs": [
        {
          "output_type": "stream",
          "name": "stdout",
          "text": [
            "Masukkan Jari-jari = 15\n",
            "Luas lingkaran tersebut adalah =  706.5\n"
          ]
        }
      ]
    },
    {
      "cell_type": "markdown",
      "source": [
        "#Praktikum 06 - Menjumlahkan Tiga Bilangan"
      ],
      "metadata": {
        "id": "vUk06ks2B2uF"
      }
    },
    {
      "cell_type": "code",
      "source": [
        "a = int(input(\"Masukkan Angka Pertama: \"))\n",
        "b = int(input(\"Masukkan Angka Kedua: \"))\n",
        "c = int(input(\"Masukkan Angka ketiga: \"))\n",
        "jumlah = a+b+c\n",
        "print(\"Jumlah ketiga angkat tersebut adalah =\", jumlah)"
      ],
      "metadata": {
        "id": "5mHNPaodBvNs",
        "outputId": "497ce771-ef31-41c2-abc8-ed7d20bab043",
        "colab": {
          "base_uri": "https://localhost:8080/"
        }
      },
      "execution_count": 6,
      "outputs": [
        {
          "output_type": "stream",
          "name": "stdout",
          "text": [
            "Masukkan Angka Pertama: 2\n",
            "Masukkan Angka Kedua: 2\n",
            "Masukkan Angka ketiga: 2\n",
            "Jumlah ketiga angkat tersebut adalah = 6\n"
          ]
        }
      ]
    },
    {
      "cell_type": "code",
      "source": [
        "2"
      ],
      "metadata": {
        "id": "pWHIGiOQCXa4"
      },
      "execution_count": null,
      "outputs": []
    }
  ]
}