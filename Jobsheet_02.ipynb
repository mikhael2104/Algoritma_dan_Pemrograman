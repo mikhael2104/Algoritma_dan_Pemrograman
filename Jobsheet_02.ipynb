{
  "nbformat": 4,
  "nbformat_minor": 0,
  "metadata": {
    "colab": {
      "provenance": [],
      "authorship_tag": "ABX9TyOT6JRtNo+u5mZm8yfLMg+0",
      "include_colab_link": true
    },
    "kernelspec": {
      "name": "python3",
      "display_name": "Python 3"
    },
    "language_info": {
      "name": "python"
    }
  },
  "cells": [
    {
      "cell_type": "markdown",
      "metadata": {
        "id": "view-in-github",
        "colab_type": "text"
      },
      "source": [
        "<a href=\"https://colab.research.google.com/github/mikhael2104/Algoritma_dan_Pemrograman/blob/main/Jobsheet_02.ipynb\" target=\"_parent\"><img src=\"https://colab.research.google.com/assets/colab-badge.svg\" alt=\"Open In Colab\"/></a>"
      ]
    },
    {
      "cell_type": "markdown",
      "source": [
        "# PRAKTIKUM 1 - PENGENALAN VARIABEL & TIPE DATA"
      ],
      "metadata": {
        "id": "nk6h-y8KdPfV"
      }
    },
    {
      "cell_type": "code",
      "execution_count": 1,
      "metadata": {
        "colab": {
          "base_uri": "https://localhost:8080/"
        },
        "id": "O1dc5P7XcJTC",
        "outputId": "f6b76eac-dd7a-427a-ddd7-d609b0f3eb20"
      },
      "outputs": [
        {
          "output_type": "stream",
          "name": "stdout",
          "text": [
            "Umur: 18 -> <class 'int'>\n",
            "Tinggi: 173.5 -> <class 'float'>\n",
            "Nama: 173.5 -> <class 'float'>\n",
            "Status Mahasiswa: True -> <class 'bool'>\n",
            "Nilai: [80, 95, 100] -> <class 'list'>\n",
            "Koordinat: (10, 20) -> <class 'tuple'>\n",
            "Data Mahasiswa: {'nama': 'Mikhael', 'umur': '18', 'prodi': 'TRK'} -> <class 'dict'>\n",
            "Hobi: {'Musik', 'Membaca', 'Bermain'} -> <class 'set'>\n"
          ]
        }
      ],
      "source": [
        "#Integer\n",
        "umur = 18\n",
        "print(\"Umur:\", umur, \"->\", type(umur))\n",
        "\n",
        "#Float\n",
        "tinggi = 173.5\n",
        "print(\"Tinggi:\", tinggi, \"->\", type(tinggi))\n",
        "\n",
        "#String\n",
        "nama = 173.5\n",
        "print(\"Nama:\", nama, \"->\", type(nama))\n",
        "\n",
        "#Boolean\n",
        "is_mahasiswa = True\n",
        "print(\"Status Mahasiswa:\", is_mahasiswa, \"->\", type(is_mahasiswa))\n",
        "\n",
        "#List\n",
        "nilai = [80, 95, 100]\n",
        "print(\"Nilai:\", nilai, \"->\", type(nilai))\n",
        "\n",
        "#Tuple\n",
        "koordinat = (10, 20)\n",
        "print(\"Koordinat:\", koordinat, \"->\", type(koordinat))\n",
        "\n",
        "#Dictionary\n",
        "mahasiswa = {\"nama\" : \"Mikhael\", \"umur\" : \"18\", \"prodi\" : \"TRK\" }\n",
        "print(\"Data Mahasiswa:\", mahasiswa, \"->\", type(mahasiswa))\n",
        "\n",
        "#SET\n",
        "hobi = {\"Membaca\", \"Bermain\", \"Musik\"}\n",
        "print(\"Hobi:\", hobi, \"->\", type(hobi))"
      ]
    },
    {
      "cell_type": "markdown",
      "source": [
        "# Praktikum 2 - Input dan Output Dasar"
      ],
      "metadata": {
        "id": "M7MOse1vdJUd"
      }
    },
    {
      "cell_type": "code",
      "source": [
        "#input string\n",
        "nama = input(\"Masukkan nama Mu: \")\n",
        "\n",
        "#input int\n",
        "umur = int(input(\"Masukkan umur Mu: \"))\n",
        "\n",
        "#input tipe float\n",
        "tinggi = float(input(\"Masukkan Tinggi Mu: \"))\n",
        "\n",
        "#output standar\n",
        "print (\"Halo,\", nama, \"Umur Anda\", umur, \"Dengan tinggi:\", tinggi, \"cm\")\n",
        "\n",
        "#output dengan format()\n",
        "print(\"halo {0}, umur anda {1}, tinggi {2} cm\".format(nama, umur, tinggi))\n",
        "\n",
        "#output dengan f-string\n",
        "print(f\"Halo {nama}, umur {umur} tahun, tinggi {tinggi} cm\")"
      ],
      "metadata": {
        "id": "cRrQ0zo83gM9",
        "outputId": "9356f526-bc2d-4d40-836e-45639c38fef8",
        "colab": {
          "base_uri": "https://localhost:8080/"
        }
      },
      "execution_count": 2,
      "outputs": [
        {
          "output_type": "stream",
          "name": "stdout",
          "text": [
            "Masukkan nama Mu: Mikhael\n",
            "Masukkan umur Mu: 18\n",
            "Masukkan Tinggi Mu: 173\n",
            "Halo, Mikhael Umur Anda 18 Dengan tinggi: 173.0 cm\n",
            "halo Mikhael, umur anda 18, tinggi 173.0 cm\n",
            "Halo Mikhael, umur 18 tahun, tinggi 173.0 cm\n"
          ]
        }
      ]
    },
    {
      "cell_type": "markdown",
      "source": [
        "# Praktikum 3 - Operator Aritmatika"
      ],
      "metadata": {
        "id": "TqiK2Qgj6MC0"
      }
    },
    {
      "cell_type": "code",
      "source": [
        "a = int(input(\"Masukkan angka 1: \"))\n",
        "b = int(input(\"Masukkan angka 2: \"))\n",
        "\n",
        "print(\"a + b =\", a + b)\n",
        "print(\"a - b =\", a - b)\n",
        "print(\"a * b =\", a * b)\n",
        "print(\"a / b =\", a / b)\n",
        "print(\"a // b =\", a // b)\n",
        "print(\"a ** b =\", a ** b)\n",
        "\n",
        "print(\"Hasilnya, Python bisa melakukan operator sederhana\")"
      ],
      "metadata": {
        "id": "pskahl9w6ZQH",
        "outputId": "9af363f3-9258-4c29-ef35-d68801062833",
        "colab": {
          "base_uri": "https://localhost:8080/"
        }
      },
      "execution_count": 4,
      "outputs": [
        {
          "output_type": "stream",
          "name": "stdout",
          "text": [
            "Masukkan angka 1: 10\n",
            "Masukkan angka 2: 5\n",
            "a + b = 15\n",
            "a - b = 5\n",
            "a * b = 50\n",
            "a / b = 2.0\n",
            "a // b = 2\n",
            "a ** b = 100000\n",
            "Hasilnya, Python bisa melakukan operator sederhana\n"
          ]
        }
      ]
    },
    {
      "cell_type": "markdown",
      "source": [
        "# Praktikum 4 - Operator Rasional"
      ],
      "metadata": {
        "id": "caB6FLQs7fXB"
      }
    }
  ]
}