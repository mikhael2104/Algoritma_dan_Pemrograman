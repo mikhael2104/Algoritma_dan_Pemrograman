{
  "nbformat": 4,
  "nbformat_minor": 0,
  "metadata": {
    "colab": {
      "provenance": [],
      "authorship_tag": "ABX9TyN8gt99MxMA8kV3LlHSg4gT",
      "include_colab_link": true
    },
    "kernelspec": {
      "name": "python3",
      "display_name": "Python 3"
    },
    "language_info": {
      "name": "python"
    }
  },
  "cells": [
    {
      "cell_type": "markdown",
      "metadata": {
        "id": "view-in-github",
        "colab_type": "text"
      },
      "source": [
        "<a href=\"https://colab.research.google.com/github/mikhael2104/Algoritma_dan_Pemrograman/blob/main/Jobsheet_02.ipynb\" target=\"_parent\"><img src=\"https://colab.research.google.com/assets/colab-badge.svg\" alt=\"Open In Colab\"/></a>"
      ]
    },
    {
      "cell_type": "markdown",
      "source": [
        "# PRAKTIKUM 1 - PENGENALAN VARIABEL & TIPE DATA"
      ],
      "metadata": {
        "id": "nk6h-y8KdPfV"
      }
    },
    {
      "cell_type": "code",
      "execution_count": 1,
      "metadata": {
        "colab": {
          "base_uri": "https://localhost:8080/"
        },
        "id": "O1dc5P7XcJTC",
        "outputId": "b6b2a2d9-63c0-40da-a45a-9fba89ed4f79"
      },
      "outputs": [
        {
          "output_type": "stream",
          "name": "stdout",
          "text": [
            "Umur: 20 -> <class 'int'>\n"
          ]
        }
      ],
      "source": [
        "#Integer\n",
        "umur = 18\n",
        "print(\"Umur:\", umur, \"->\", type(umur))\n",
        "\n",
        "#Float\n",
        "tinggi = 173.5\n",
        "print(\"Tinggi:\", tinggi, \"->\", type(tinggi))\n",
        "\n",
        "#String\n",
        "nama = 173.5\n",
        "print(\"Nama:\", nama, \"->\", type(nama))\n",
        "\n",
        "#Boolean\n",
        "is_mahasiswa = True\n",
        "print(\"Status Mahasiswa:\", is_mahasiswa, \"->\", type(is_mahasiswa))\n",
        "\n",
        "#List\n",
        "nilai = [80, 95, 100]\n",
        "print(\"Nilai:\", nilai, \"->\", type(nilai))\n",
        "\n",
        "#Tuple\n",
        "koordinat = (10, 20)\n",
        "print(\"Koordinat:\", koordinat, \"->\", type(koordinat))\n",
        "\n",
        "#Dictionary\n",
        "mahasiswa = {\"nama\" : \"Mikhael\", \"umur\" : \"18\", \"prodi\" : \"TRK\" }\n",
        "print(\"Data Mahasiswa:\", mahasiswa, \"->\", type(mahasiswa))\n",
        "\n",
        "#SET\n",
        "hobi = {\"Membaca\", \"Bermain\", \"Musik\"}\n",
        "print(\"Hobi:\", hobi, \"->\", type(hobi))"
      ]
    },
    {
      "cell_type": "markdown",
      "source": [
        "# New Section"
      ],
      "metadata": {
        "id": "M7MOse1vdJUd"
      }
    }
  ]
}