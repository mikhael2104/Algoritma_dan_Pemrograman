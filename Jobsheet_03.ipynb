{
  "nbformat": 4,
  "nbformat_minor": 0,
  "metadata": {
    "colab": {
      "provenance": [],
      "authorship_tag": "ABX9TyOywK5bM2SCuIF+S1xE0S4+",
      "include_colab_link": true
    },
    "kernelspec": {
      "name": "python3",
      "display_name": "Python 3"
    },
    "language_info": {
      "name": "python"
    }
  },
  "cells": [
    {
      "cell_type": "markdown",
      "metadata": {
        "id": "view-in-github",
        "colab_type": "text"
      },
      "source": [
        "<a href=\"https://colab.research.google.com/github/mikhael2104/Algoritma_dan_Pemrograman/blob/main/Jobsheet_03.ipynb\" target=\"_parent\"><img src=\"https://colab.research.google.com/assets/colab-badge.svg\" alt=\"Open In Colab\"/></a>"
      ]
    },
    {
      "cell_type": "markdown",
      "source": [
        "# **Jobsheet 3**"
      ],
      "metadata": {
        "id": "o6DQx1EWyGnE"
      }
    },
    {
      "cell_type": "markdown",
      "source": [
        "# Praktikum 1 - If Sederhana"
      ],
      "metadata": {
        "id": "MnRKDzbcyQcT"
      }
    },
    {
      "cell_type": "code",
      "source": [
        "nilai = int(input(\"Masukkan nilai anda: \"))\n",
        "\n",
        "if nilai >= 60:\n",
        "  print(\"Lulus\")"
      ],
      "metadata": {
        "id": "ZQzOhTo8yjrc",
        "outputId": "9188a24a-8d0f-4f4c-cdce-b06e3745519d",
        "colab": {
          "base_uri": "https://localhost:8080/"
        }
      },
      "execution_count": null,
      "outputs": [
        {
          "output_type": "stream",
          "name": "stdout",
          "text": [
            "Masukkan nilai anda: 70\n",
            "Lulus\n"
          ]
        }
      ]
    },
    {
      "cell_type": "markdown",
      "source": [
        "# Praktikum 2 - If-Else"
      ],
      "metadata": {
        "id": "tGy6EkjvzAjW"
      }
    },
    {
      "cell_type": "code",
      "source": [
        "nilai = int(input(\"Masukkan nilai anda: \"))\n",
        "\n",
        "if nilai >= 60:\n",
        "  print(\"Lulus\")\n",
        "else:\n",
        "  print(\"Tidak Lulus\")"
      ],
      "metadata": {
        "id": "MR-Pt17ozDD-",
        "outputId": "d9ca351d-e754-4f0f-fc4e-e1279274193a",
        "colab": {
          "base_uri": "https://localhost:8080/"
        }
      },
      "execution_count": 23,
      "outputs": [
        {
          "output_type": "stream",
          "name": "stdout",
          "text": [
            "Masukkan nilai anda: 50\n",
            "Tidak Lulus\n"
          ]
        }
      ]
    },
    {
      "cell_type": "markdown",
      "source": [
        "# Praktium 3 - If-Elif-Else"
      ],
      "metadata": {
        "id": "H7pyDD53zZQ5"
      }
    },
    {
      "cell_type": "code",
      "source": [
        "nilai = int(input(\"Masukkan nilai kamu: \"))\n",
        "\n",
        "if nilai >= 85:\n",
        "  grade = \"A\"\n",
        "elif nilai >= 70:\n",
        "  grade = \"B\"\n",
        "elif nilai >= 55:\n",
        "  grade = \"C\"\n",
        "elif nilai >= 40:\n",
        "  grade = \"D\"\n",
        "else:\n",
        "  grade = \"E\"\n",
        "\n",
        "print(f\"Nilai anda adalah {nilai}, maka anda mendapat {grade}\")"
      ],
      "metadata": {
        "id": "x0KNAxauzg4p",
        "outputId": "048678fe-6003-4b7f-8845-732e1f53047e",
        "colab": {
          "base_uri": "https://localhost:8080/"
        }
      },
      "execution_count": 24,
      "outputs": [
        {
          "output_type": "stream",
          "name": "stdout",
          "text": [
            "Masukkan nilai kamu: 78\n",
            "Nilai anda adalah 78, maka anda mendapat B\n"
          ]
        }
      ]
    },
    {
      "cell_type": "markdown",
      "source": [
        "# Praktikum 4 - Nested If"
      ],
      "metadata": {
        "id": "gcmPgez-0alo"
      }
    },
    {
      "cell_type": "code",
      "source": [
        "ipk = float(input(\"Maskkan IPK Mu: \"))\n",
        "sks = int(input(\"Masukkan SKS Mu: \"))\n",
        "\n",
        "if ipk >= 3.0:\n",
        "  if sks >= 18:\n",
        "    print(\"Layak Beasiswa\")\n",
        "  else:\n",
        "    print(\"IPK aman, SKS kurang\")\n",
        "else:\n",
        "  print(\"Tidak memenuhi beasiswa\")"
      ],
      "metadata": {
        "id": "J1-kTjFT0gH7",
        "outputId": "a15c1390-7c59-4e5c-bb0e-583afd4c0fd8",
        "colab": {
          "base_uri": "https://localhost:8080/"
        }
      },
      "execution_count": 27,
      "outputs": [
        {
          "output_type": "stream",
          "name": "stdout",
          "text": [
            "Maskkan IPK Mu: 2.8\n",
            "Masukkan SKS Mu: 20\n",
            "Tidak memenuhi beasiswa\n"
          ]
        }
      ]
    },
    {
      "cell_type": "markdown",
      "source": [
        "# Praktikum 5 - Match Case"
      ],
      "metadata": {
        "id": "xBZlCI3A1cXH"
      }
    },
    {
      "cell_type": "code",
      "source": [
        "menu = int(input(\"Pilih menu 1-3: \"))\n",
        "\n",
        "match menu:\n",
        "  case 1:\n",
        "    print (\"Nasi Goreng pedas membakar jiwa, telah anda pilih\")\n",
        "  case 2:\n",
        "    print (\"Mie Ayam manis gurih kayak kamu, telah anda pilih\")\n",
        "  case 3:\n",
        "    print (\"Soto Ayam segar kekayaan Indonesia, telah anda pilih\")\n",
        "  case _:\n",
        "    print (\"Menu tidak tersedia\")"
      ],
      "metadata": {
        "id": "A3pxtmhE1iTh",
        "outputId": "8ccd712d-c153-4558-84df-9bf32460b12c",
        "colab": {
          "base_uri": "https://localhost:8080/"
        }
      },
      "execution_count": 30,
      "outputs": [
        {
          "output_type": "stream",
          "name": "stdout",
          "text": [
            "Pilih menu 1-3: 9\n",
            "Menu tidak tersedia\n"
          ]
        }
      ]
    },
    {
      "cell_type": "markdown",
      "source": [
        "# Praktikum 6 - Studi kasus program kasir"
      ],
      "metadata": {
        "id": "9M_OFOQP3OYO"
      }
    },
    {
      "cell_type": "code",
      "source": [
        "#deklarasi input, untuk brng, harga, dan jmlh\n",
        "barang = input(\"Nama barang: \")\n",
        "harga = float(input(\"Harga barang: \"))\n",
        "jumlah = float(input(\"Jumlah barang: \"))\n",
        "\n",
        "#rumus total\n",
        "total = harga * jumlah\n",
        "\n",
        "#logic kasir\n",
        "if total >= 500000:\n",
        "  diskon = 0.2\n",
        "elif total >= 250000:\n",
        "  diskon = 0.1\n",
        "else:\n",
        "  diskon = 0\n",
        "\n",
        "bayar = total - (total*diskon)\n",
        "print(\"\\n===== Struk Belanja =====\")\n",
        "print(f\"Barang : {barang}\")\n",
        "print(f\"Jumlah : {jumlah}\")\n",
        "print(f\"Total : Rp {total}\")\n",
        "print(f\"Diskon : {diskon*100}%\")\n",
        "print(f\"Bayar : Rp {bayar}\")\n"
      ],
      "metadata": {
        "id": "9IeSLhMt3VQW",
        "outputId": "80b9a57d-712f-45a7-a06e-8f462713cc02",
        "colab": {
          "base_uri": "https://localhost:8080/"
        }
      },
      "execution_count": 33,
      "outputs": [
        {
          "output_type": "stream",
          "name": "stdout",
          "text": [
            "Nama barang: Pulpen\n",
            "Harga barang: 5000\n",
            "Jumlah barang: 10\n",
            "\n",
            "===== Struk Belanja =====\n",
            "Barang : Pulpen\n",
            "Jumlah : 10.0\n",
            "Total : Rp 50000.0\n",
            "Diskon : 0%\n",
            "Bayar : Rp 50000.0\n"
          ]
        }
      ]
    },
    {
      "cell_type": "markdown",
      "source": [
        "# Penugasan 3 - Cek bilangan positif/negatif/nol"
      ],
      "metadata": {
        "id": "hab278Wm5HYC"
      }
    },
    {
      "cell_type": "code",
      "source": [
        "nilai = int(input(\"Bilangannya adalah: \"))\n",
        "\n",
        "if nilai > 0:\n",
        "  print (\"Bilanngan positif\")\n",
        "elif nilai < 0:\n",
        "  print (\"Bilangan negatif\")\n",
        "else:\n",
        "  print (\"Bilangan adalah nol\")"
      ],
      "metadata": {
        "id": "dJ7eJQ4e5kUx",
        "outputId": "19ebe7f1-3e0d-4763-b24c-eff1509e4814",
        "colab": {
          "base_uri": "https://localhost:8080/"
        }
      },
      "execution_count": 40,
      "outputs": [
        {
          "output_type": "stream",
          "name": "stdout",
          "text": [
            "Bilangannya adalah: 1\n",
            "Bilanngan positif\n"
          ]
        }
      ]
    },
    {
      "cell_type": "markdown",
      "source": [
        "# Penugasan 4 - Menentukan kategori usia"
      ],
      "metadata": {
        "id": "e2jPQb745HUN"
      }
    },
    {
      "cell_type": "code",
      "source": [
        "umur = int(input(\"Umur anda: \"))\n",
        "\n",
        "if umur < 5:\n",
        "  print(\"Balita\")\n",
        "elif umur <= 11:\n",
        "  print(\"Anak-anak\")\n",
        "elif umur <= 17:\n",
        "  print(\"Remaja\")\n",
        "elif umur <= 59:\n",
        "  print(\"Dewasa\")\n",
        "elif umur >= 60:\n",
        "  print(\"Lansia\")"
      ],
      "metadata": {
        "id": "q1GIr0s97nDX",
        "outputId": "9f21534e-7a53-4c55-81d0-02366404c5f7",
        "colab": {
          "base_uri": "https://localhost:8080/"
        }
      },
      "execution_count": 39,
      "outputs": [
        {
          "output_type": "stream",
          "name": "stdout",
          "text": [
            "Umur anda: 10\n",
            "Anak-anak\n"
          ]
        }
      ]
    },
    {
      "cell_type": "markdown",
      "source": [
        "# Penugasan 5 - Hitung tarif parkir"
      ],
      "metadata": {
        "id": "lwniooNo80pZ"
      }
    },
    {
      "cell_type": "code",
      "source": [
        "h_awal = 5000\n",
        "h_tambah = 2000\n",
        "batas_tarif = 20000\n",
        "jam_masuk = int(input(\"Masukkan lama anda masuk parkir (jam): \"))\n",
        "\n",
        "if jam_masuk <= 2:\n",
        "  tarif = h_awal\n",
        "elif jam_masuk > 2:\n",
        "  tarif = h_awal + (jam_masuk - 2) * 2000\n",
        "\n",
        "if tarif > 20000:\n",
        "  tarif = batas_tarif\n",
        "\n",
        "print(\"Total Biaya Parkir\", tarif)"
      ],
      "metadata": {
        "id": "9o2Unrbr86ZZ",
        "outputId": "93e7ea4a-c0b5-481e-abd5-2cdc4e7e9af9",
        "colab": {
          "base_uri": "https://localhost:8080/"
        }
      },
      "execution_count": 42,
      "outputs": [
        {
          "output_type": "stream",
          "name": "stdout",
          "text": [
            "Masukkan lama anda masuk parkir (jam): 20\n",
            "Total Biaya Parkir 20000\n"
          ]
        }
      ]
    },
    {
      "cell_type": "markdown",
      "source": [
        "# Penugasan 6 - Cek Login Sederhana"
      ],
      "metadata": {
        "id": "KTy53djlJCFm"
      }
    },
    {
      "cell_type": "code",
      "source": [
        "username = input(\"Masukkan username: \")\n",
        "password = input(\"Masukkan password: \")\n",
        "\n",
        "if username == \"admin\" and password == \"1234\":\n",
        "  print(\"Login Berhasil\")\n",
        "else:\n",
        "  print(\"Login gagal\")"
      ],
      "metadata": {
        "id": "8N383MSZJGM2",
        "outputId": "f79c7a93-a307-43b4-a7e9-1c22e3d37998",
        "colab": {
          "base_uri": "https://localhost:8080/"
        }
      },
      "execution_count": 48,
      "outputs": [
        {
          "output_type": "stream",
          "name": "stdout",
          "text": [
            "Masukkan username: admin\n",
            "Masukkan password: admin1234\n",
            "Login gagal\n"
          ]
        }
      ]
    },
    {
      "cell_type": "markdown",
      "source": [
        "# Penugasan 7 - Cek Bil Ganjil atau Genap"
      ],
      "metadata": {
        "id": "foGoY4AkKDPD"
      }
    },
    {
      "cell_type": "code",
      "source": [
        "bil = int(input(\"Masukkan bilangan yang dicek: \"))\n",
        "hasil = \"Genap\" if bil % 2 == 0 else \"Ganjil\"\n",
        "print(\"Bilangannya tersebut: \", hasil)"
      ],
      "metadata": {
        "id": "7MPWmOM1Kcb6",
        "outputId": "4d741777-5240-43d5-b32b-c5e8ed74bac7",
        "colab": {
          "base_uri": "https://localhost:8080/"
        }
      },
      "execution_count": 49,
      "outputs": [
        {
          "output_type": "stream",
          "name": "stdout",
          "text": [
            "Masukkan bilangan yang dicek: 1\n",
            "Bilangannya tersebut:  Ganjil\n"
          ]
        }
      ]
    },
    {
      "cell_type": "markdown",
      "source": [
        "# Penugasan 8 - Menu Restoran dengan Match Case"
      ],
      "metadata": {
        "id": "C8Db1DzeK5ht"
      }
    },
    {
      "cell_type": "code",
      "source": [
        "menu = int(input(\"Masukkan no menu: \"))\n",
        "\n",
        "match menu:\n",
        "  case 1:\n",
        "    print(\"Nasi Goreng\")\n",
        "  case 2:\n",
        "    print(\"Mie Ayam\")\n",
        "  case 3:\n",
        "    print(\"Soto Ayam\")\n",
        "  case _:\n",
        "    print(\"Menu tidak tersedia\")"
      ],
      "metadata": {
        "id": "vqnV2EdhLAD7",
        "outputId": "a3e752f5-f67c-4f58-9937-af1658b91d96",
        "colab": {
          "base_uri": "https://localhost:8080/"
        }
      },
      "execution_count": 50,
      "outputs": [
        {
          "output_type": "stream",
          "name": "stdout",
          "text": [
            "Masukkan no menu: 5\n",
            "Menu tidak tersedia\n"
          ]
        }
      ]
    },
    {
      "cell_type": "markdown",
      "source": [
        "# Penugasan 9 - Program Penentuan Diskon"
      ],
      "metadata": {
        "id": "HHTo6uqeMH5N"
      }
    },
    {
      "cell_type": "code",
      "source": [
        "nama = input(\"Nama barang: \")\n",
        "jumlah = int(input(\"Jumlah yang dibeli: \"))\n",
        "harga = float(input(\"Harga barang: \"))\n",
        "total = jumlah * harga\n",
        "\n",
        "if total >= 500000:\n",
        "  diskon = \"Diskon 20%\"\n",
        "  t_diskon = int(total * 80/100)\n",
        "elif total >= 250000:\n",
        "  diskon = \"Diskon 10%\"\n",
        "  t_diskon = int(total * 90/100)\n",
        "else:\n",
        "  diskon = \"Tidak ada diskon\"\n",
        "\n",
        "print(\"\\n ===== Struk Belanja =====\")\n",
        "print(\"Nama Barang:\", nama)\n",
        "print(\"Jumlah Barang:\", jumlah)\n",
        "print(\"Harga:\", harga)\n",
        "print(\"Total Diskon:\", diskon)\n",
        "print(\"Jumlah Bayar\", t_diskon)"
      ],
      "metadata": {
        "id": "g-_YHc0FMO_m",
        "outputId": "52a36c1e-ce57-4db0-a168-a5327a4d0ac6",
        "colab": {
          "base_uri": "https://localhost:8080/"
        }
      },
      "execution_count": 51,
      "outputs": [
        {
          "output_type": "stream",
          "name": "stdout",
          "text": [
            "Nama barang: Diamon Ep Ep\n",
            "Jumlah yang dibeli: 1\n",
            "Harga barang: 1000000\n",
            "\n",
            " ===== Struk Belanja =====\n",
            "Nama Barang: Diamon Ep Ep\n",
            "Jumlah Barang: 1\n",
            "Harga: 1000000.0\n",
            "Total Diskon: Diskon 20%\n",
            "Jumlah Bayar 800000\n"
          ]
        }
      ]
    }
  ]
}