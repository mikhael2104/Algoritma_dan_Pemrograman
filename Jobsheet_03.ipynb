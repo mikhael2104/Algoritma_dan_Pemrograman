{
  "nbformat": 4,
  "nbformat_minor": 0,
  "metadata": {
    "colab": {
      "provenance": [],
      "authorship_tag": "ABX9TyNvY0wzEwGf1eNIgGgDMzCZ",
      "include_colab_link": true
    },
    "kernelspec": {
      "name": "python3",
      "display_name": "Python 3"
    },
    "language_info": {
      "name": "python"
    }
  },
  "cells": [
    {
      "cell_type": "markdown",
      "metadata": {
        "id": "view-in-github",
        "colab_type": "text"
      },
      "source": [
        "<a href=\"https://colab.research.google.com/github/mikhael2104/Algoritma_dan_Pemrograman/blob/main/Jobsheet_03.ipynb\" target=\"_parent\"><img src=\"https://colab.research.google.com/assets/colab-badge.svg\" alt=\"Open In Colab\"/></a>"
      ]
    },
    {
      "cell_type": "markdown",
      "source": [
        "# **Jobsheet 3**"
      ],
      "metadata": {
        "id": "o6DQx1EWyGnE"
      }
    },
    {
      "cell_type": "markdown",
      "source": [
        "# Praktikum 1 - If Sederhana"
      ],
      "metadata": {
        "id": "MnRKDzbcyQcT"
      }
    },
    {
      "cell_type": "code",
      "source": [
        "nilai = int(input(\"Masukkan nilai anda: \"))\n",
        "\n",
        "if nilai >= 60:\n",
        "  print(\"Lulus\")"
      ],
      "metadata": {
        "id": "ZQzOhTo8yjrc",
        "outputId": "9188a24a-8d0f-4f4c-cdce-b06e3745519d",
        "colab": {
          "base_uri": "https://localhost:8080/"
        }
      },
      "execution_count": 4,
      "outputs": [
        {
          "output_type": "stream",
          "name": "stdout",
          "text": [
            "Masukkan nilai anda: 70\n",
            "Lulus\n"
          ]
        }
      ]
    },
    {
      "cell_type": "markdown",
      "source": [
        "# Praktikum 2 - If-Else"
      ],
      "metadata": {
        "id": "tGy6EkjvzAjW"
      }
    },
    {
      "cell_type": "code",
      "source": [
        "nilai = int(input(\"Masukkan nilai anda: \"))\n",
        "\n",
        "if nilai >= 60:\n",
        "  print(\"Lulus\")\n",
        "else:\n",
        "  print(\"Tidak Lulus\")"
      ],
      "metadata": {
        "id": "MR-Pt17ozDD-",
        "outputId": "4f7d2019-0dd5-4dd5-84be-914559a8335c",
        "colab": {
          "base_uri": "https://localhost:8080/"
        }
      },
      "execution_count": 5,
      "outputs": [
        {
          "output_type": "stream",
          "name": "stdout",
          "text": [
            "Masukkan nilai anda: 55\n",
            "Tidak Lulus\n"
          ]
        }
      ]
    },
    {
      "cell_type": "markdown",
      "source": [
        "# Praktium 3 - If-Elif-Else"
      ],
      "metadata": {
        "id": "H7pyDD53zZQ5"
      }
    },
    {
      "cell_type": "code",
      "source": [
        "nilai = int(input(\"Masukkan nilai kamu: \"))\n",
        "\n",
        "if nilai >= 85:\n",
        "  grade = \"A\"\n",
        "elif nilai >= 70:\n",
        "  grade = \"B\"\n",
        "elif nilai >= 55:\n",
        "  grade = \"C\"\n",
        "elif nilai >= 40:\n",
        "  grade = \"D\"\n",
        "else:\n",
        "  grade = \"E\"\n",
        "\n",
        "print(f\"Nilai anda adalah {nilai}, maka anda mendapat {grade}\")"
      ],
      "metadata": {
        "id": "x0KNAxauzg4p",
        "outputId": "da1b9bdc-6799-4ff9-e3c9-6390d135299f",
        "colab": {
          "base_uri": "https://localhost:8080/"
        }
      },
      "execution_count": 6,
      "outputs": [
        {
          "output_type": "stream",
          "name": "stdout",
          "text": [
            "Masukkan nilai kamu: 70\n",
            "Nilai anda adalah 70, maka anda mendapat B\n"
          ]
        }
      ]
    },
    {
      "cell_type": "markdown",
      "source": [
        "# Praktikum 4 - Nested If"
      ],
      "metadata": {
        "id": "gcmPgez-0alo"
      }
    },
    {
      "cell_type": "code",
      "source": [
        "ipk = float(input(\"Maskkan IPK Mu: \"))\n",
        "sks = int(input(\"Masukkan SKS Mu: \"))\n",
        "\n",
        "if ipk >= 3.0:\n",
        "  if sks >= 18:\n",
        "    print(\"Layak Beasiswa\")\n",
        "  else:\n",
        "    print(\"IPK aman, SKS kurang\")\n",
        "else:\n",
        "  print(\"Tidak memenuhi beasiswa\")"
      ],
      "metadata": {
        "id": "J1-kTjFT0gH7",
        "outputId": "25494b7d-8791-4730-8e68-863e70e80b43",
        "colab": {
          "base_uri": "https://localhost:8080/"
        }
      },
      "execution_count": 7,
      "outputs": [
        {
          "output_type": "stream",
          "name": "stdout",
          "text": [
            "Maskkan IPK Mu: 3.75\n",
            "Masukkan SKS Mu: 20\n",
            "Layak Beasiswa\n"
          ]
        }
      ]
    },
    {
      "cell_type": "markdown",
      "source": [
        "# Praktikum 5 - Match Case"
      ],
      "metadata": {
        "id": "xBZlCI3A1cXH"
      }
    },
    {
      "cell_type": "code",
      "source": [
        "menu = int(input(\"Pilih menu 1-3: \"))\n",
        "\n",
        "match menu:\n",
        "  case 1:\n",
        "    print (\"Nasi Goreng pedas membakar jiwa, telah anda pilih\")\n",
        "  case 2:\n",
        "    print (\"Mie Ayam manis gurih kayak kamu, telah anda pilih\")\n",
        "  case 3:\n",
        "    print (\"Soto Ayam segar kekayaan Indonesia, telah anda pilih\")\n",
        "  case _:\n",
        "    print (\"Menu tidak tersedia\")"
      ],
      "metadata": {
        "id": "A3pxtmhE1iTh",
        "outputId": "fb19a3ae-b9ba-4d60-fdd5-a5ff4b4f4475",
        "colab": {
          "base_uri": "https://localhost:8080/"
        }
      },
      "execution_count": 9,
      "outputs": [
        {
          "output_type": "stream",
          "name": "stdout",
          "text": [
            "Pilih menu 1-3: 4\n",
            "Menu tidak tersedia\n"
          ]
        }
      ]
    },
    {
      "cell_type": "markdown",
      "source": [
        "# Praktikum 6 - Studi kasus program kasir"
      ],
      "metadata": {
        "id": "9M_OFOQP3OYO"
      }
    },
    {
      "cell_type": "code",
      "source": [
        "#deklarasi input, untuk brng, harga, dan jmlh\n",
        "barang = input(\"Nama barang: \")\n",
        "harga = float(input(\"Harga barang: \"))\n",
        "jumlah = float(input(\"Jumlah barang: \"))\n",
        "\n",
        "#rumus total\n",
        "total = harga * jumlah\n",
        "\n",
        "#logic kasir\n",
        "if total >= 500000:\n",
        "  diskon = 0.2\n",
        "elif total >= 250000:\n",
        "  diskon = 0.1\n",
        "else:\n",
        "  diskon = 0\n",
        "\n",
        "bayar = total - (total*diskon)\n",
        "print(\"\\n===== Struk Belanja =====\")\n",
        "print(f\"Barang : {barang}\")\n",
        "print(f\"Jumlah : {jumlah}\")\n",
        "print(f\"Total : Rp {total}\")\n",
        "print(f\"Diskon : {diskon*100}%\")\n",
        "print(f\"Bayar : Rp {bayar}\")\n"
      ],
      "metadata": {
        "id": "9IeSLhMt3VQW",
        "outputId": "f3abdd68-f395-4e8d-c6a3-da9ce536cdb6",
        "colab": {
          "base_uri": "https://localhost:8080/"
        }
      },
      "execution_count": 10,
      "outputs": [
        {
          "output_type": "stream",
          "name": "stdout",
          "text": [
            "Nama barang: Laptop\n",
            "Harga barang: 1000000\n",
            "Jumlah barang: 5\n",
            "\n",
            "===== Struk Belanja =====\n",
            "Barang : Laptop\n",
            "Jumlah : 5.0\n",
            "Total : Rp 5000000.0\n",
            "Diskon : 20.0%\n",
            "Bayar : Rp 4000000.0\n"
          ]
        }
      ]
    },
    {
      "cell_type": "markdown",
      "source": [
        "# Penugasan 3 - Cek bilangan positif/negatif/nol"
      ],
      "metadata": {
        "id": "hab278Wm5HYC"
      }
    },
    {
      "cell_type": "code",
      "source": [
        "nilai = int(input(\"Bilangannya adalah: \"))\n",
        "\n",
        "if nilai > 0:\n",
        "  print (\"Bilanngan positif\")\n",
        "elif nilai < 0:\n",
        "  print (\"Bilangan negatif\")\n",
        "else:\n",
        "  print (\"Bilangan adalah nol\")"
      ],
      "metadata": {
        "id": "dJ7eJQ4e5kUx",
        "outputId": "faf359ed-59c9-43d7-945b-bd25ffa818f7",
        "colab": {
          "base_uri": "https://localhost:8080/"
        }
      },
      "execution_count": 13,
      "outputs": [
        {
          "output_type": "stream",
          "name": "stdout",
          "text": [
            "Bilangannya adalah: -1\n",
            "Bilangan negatif\n"
          ]
        }
      ]
    },
    {
      "cell_type": "markdown",
      "source": [
        "# Penugasan 4 - Menentukan kategori usia"
      ],
      "metadata": {
        "id": "e2jPQb745HUN"
      }
    },
    {
      "cell_type": "code",
      "source": [
        "umur = int(input(\"Umur anda: \"))\n",
        "\n",
        "if umur < 5:\n",
        "  print(\"Balita\")\n",
        "elif umur <= 11:\n",
        "  print(\"Anak-anak\")\n",
        "elif umur <= 17:\n",
        "  print(\"Remaja\")\n",
        "elif umur <= 59:\n",
        "  print(\"Dewasa\")\n",
        "elif umur >= 60:\n",
        "  print(\"Lansia\")"
      ],
      "metadata": {
        "id": "q1GIr0s97nDX",
        "outputId": "0901ac52-4a03-4ce0-9a0b-f405785ac5a6",
        "colab": {
          "base_uri": "https://localhost:8080/"
        }
      },
      "execution_count": 17,
      "outputs": [
        {
          "output_type": "stream",
          "name": "stdout",
          "text": [
            "Umur anda: 10\n",
            "Anak-anak\n"
          ]
        }
      ]
    },
    {
      "cell_type": "markdown",
      "source": [
        "# Penugasan 5 - Hitung tarif parkir"
      ],
      "metadata": {
        "id": "lwniooNo80pZ"
      }
    },
    {
      "cell_type": "code",
      "source": [
        "h_awal = 5000\n",
        "h_tambah = 2000\n",
        "batas_tarif = 20000\n",
        "jam_masuk = input(\"Masukkan jam anda masuk: \")\n",
        "\n",
        "if"
      ],
      "metadata": {
        "id": "9o2Unrbr86ZZ"
      },
      "execution_count": null,
      "outputs": []
    }
  ]
}