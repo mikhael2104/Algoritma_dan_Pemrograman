{
  "nbformat": 4,
  "nbformat_minor": 0,
  "metadata": {
    "colab": {
      "provenance": [],
      "authorship_tag": "ABX9TyO7wW4pv7L4/DKTSpZqbxHG",
      "include_colab_link": true
    },
    "kernelspec": {
      "name": "python3",
      "display_name": "Python 3"
    },
    "language_info": {
      "name": "python"
    }
  },
  "cells": [
    {
      "cell_type": "markdown",
      "metadata": {
        "id": "view-in-github",
        "colab_type": "text"
      },
      "source": [
        "<a href=\"https://colab.research.google.com/github/mikhael2104/Algoritma_dan_Pemrograman/blob/main/Jobsheet_04.ipynb\" target=\"_parent\"><img src=\"https://colab.research.google.com/assets/colab-badge.svg\" alt=\"Open In Colab\"/></a>"
      ]
    },
    {
      "cell_type": "markdown",
      "source": [
        "# **Jobsheet 04**"
      ],
      "metadata": {
        "id": "tPiDG5Fne8l_"
      }
    },
    {
      "cell_type": "markdown",
      "source": [
        "# Praktikum 1 - Perulangan For dengan Range"
      ],
      "metadata": {
        "id": "aSyf5wbWfA-n"
      }
    },
    {
      "cell_type": "code",
      "execution_count": null,
      "metadata": {
        "id": "YDemvjZYdUHT",
        "outputId": "2555fdbe-085e-4010-8f13-bfa11c077b17",
        "colab": {
          "base_uri": "https://localhost:8080/"
        }
      },
      "outputs": [
        {
          "output_type": "stream",
          "name": "stdout",
          "text": [
            "1\n",
            "2\n",
            "3\n",
            "4\n",
            "5\n"
          ]
        }
      ],
      "source": [
        "for i in range (1, 6):\n",
        "  print(i)"
      ]
    },
    {
      "cell_type": "markdown",
      "source": [
        "# Praktikum 2 - Perulangan While"
      ],
      "metadata": {
        "id": "06qzHBpmf81q"
      }
    },
    {
      "cell_type": "code",
      "source": [
        "n = int(input(\"Masukkan angkka: \"))\n",
        "\n",
        "while n > 0:\n",
        "  print(n)\n",
        "  n -= 1"
      ],
      "metadata": {
        "id": "9ZbESHk5gBci",
        "outputId": "70e0393b-ff44-4bc9-e0c7-a16759bb0e45",
        "colab": {
          "base_uri": "https://localhost:8080/"
        }
      },
      "execution_count": null,
      "outputs": [
        {
          "output_type": "stream",
          "name": "stdout",
          "text": [
            "Masukkan angkka: 5\n",
            "5\n",
            "4\n",
            "3\n",
            "2\n",
            "1\n"
          ]
        }
      ]
    },
    {
      "cell_type": "markdown",
      "source": [
        "# Praktikum 3 - Nested Loop (Segitiga Bintang)"
      ],
      "metadata": {
        "id": "KmYLbD4tj-WI"
      }
    },
    {
      "cell_type": "code",
      "source": [
        "for i in range(1, 6):\n",
        "  for j in range(i):\n",
        "    print(\"*\", end=\"\")\n",
        "  print()\n"
      ],
      "metadata": {
        "id": "gsGRTYX6jWxu",
        "outputId": "3fa85ff1-124a-40f5-b4e7-572423379525",
        "colab": {
          "base_uri": "https://localhost:8080/"
        }
      },
      "execution_count": null,
      "outputs": [
        {
          "output_type": "stream",
          "name": "stdout",
          "text": [
            "*\n",
            "**\n",
            "***\n",
            "****\n",
            "*****\n"
          ]
        }
      ]
    },
    {
      "cell_type": "markdown",
      "source": [
        "# Praktikum 4 - Break and Continue"
      ],
      "metadata": {
        "id": "mxoYqpu4mLjA"
      }
    },
    {
      "cell_type": "code",
      "source": [
        "for i in range (1, 11):\n",
        "  if i == 11:\n",
        "      break\n",
        "  print(i)"
      ],
      "metadata": {
        "id": "FK0IE3lDmU8S",
        "outputId": "dcbd9838-b0ea-4f1b-961b-938c4696a93a",
        "colab": {
          "base_uri": "https://localhost:8080/"
        }
      },
      "execution_count": null,
      "outputs": [
        {
          "output_type": "stream",
          "name": "stdout",
          "text": [
            "1\n",
            "2\n",
            "3\n",
            "4\n",
            "5\n",
            "6\n",
            "7\n",
            "8\n",
            "9\n",
            "10\n"
          ]
        }
      ]
    },
    {
      "cell_type": "code",
      "source": [
        "for i in range(1, 6):\n",
        "  if i % 2 == 1:\n",
        "    continue\n",
        "  print(i)"
      ],
      "metadata": {
        "id": "Bfsg1AnG86GC",
        "outputId": "a82992fc-da77-4a30-ba2b-f5038c26cf00",
        "colab": {
          "base_uri": "https://localhost:8080/"
        }
      },
      "execution_count": null,
      "outputs": [
        {
          "output_type": "stream",
          "name": "stdout",
          "text": [
            "2\n",
            "4\n"
          ]
        }
      ]
    },
    {
      "cell_type": "markdown",
      "source": [
        "# Praktikum 5 - For pada Dictionary"
      ],
      "metadata": {
        "id": "jqOUhvuhyxPB"
      }
    },
    {
      "cell_type": "code",
      "source": [
        "data = {\"Nama\" : \"Andi\", \"Umur\" : \"20\", \"Prodi\" : \"TRK\"}\n",
        "for k, v in data.items():\n",
        "  print (k, \":\" ,v)"
      ],
      "metadata": {
        "id": "CNS6yFMnmcZ0",
        "outputId": "2ee4a967-2a65-4387-81a5-2cd85c4dad27",
        "colab": {
          "base_uri": "https://localhost:8080/"
        }
      },
      "execution_count": null,
      "outputs": [
        {
          "output_type": "stream",
          "name": "stdout",
          "text": [
            "Nama : Andi\n",
            "Umur : 20\n",
            "Prodi : TRK\n"
          ]
        }
      ]
    },
    {
      "cell_type": "markdown",
      "source": [
        "# Praktikum 6 - For dengan Enumarate"
      ],
      "metadata": {
        "id": "TpoQ1LPxzgO-"
      }
    },
    {
      "cell_type": "code",
      "source": [
        "daftar = [\"Andi\", \"Budi\", \"Cici\"]\n",
        "\n",
        "for i, nama in enumerate(daftar, start = 1):\n",
        "  print(i, nama)"
      ],
      "metadata": {
        "id": "0iPowH3UzmiW",
        "outputId": "64b678dd-2287-4e5a-d08a-4707adb2482a",
        "colab": {
          "base_uri": "https://localhost:8080/"
        }
      },
      "execution_count": null,
      "outputs": [
        {
          "output_type": "stream",
          "name": "stdout",
          "text": [
            "1 Andi\n",
            "2 Budi\n",
            "3 Cici\n"
          ]
        }
      ]
    },
    {
      "cell_type": "markdown",
      "source": [
        "# Praktikum 7 - Program Kasir Multi-item"
      ],
      "metadata": {
        "id": "oyLE-Gw71xty"
      }
    },
    {
      "cell_type": "code",
      "source": [
        "total = 0\n",
        "\n",
        "while True:\n",
        "  barang = input(\"Masukkan nama barang (ketik'selesai'untuk berhenti): \")\n",
        "  if barang.lower() == \"selesai\":\n",
        "    break\n",
        "  harga = float(input(f\"Masukkan harga {barang}: \"))\n",
        "  jumlah = int(input(f\"Masukkan jumlah {barang}: \"))\n",
        "  subtotal = harga * jumlah\n",
        "  total += subtotal\n",
        "\n",
        "print(\"\\n ===== Struk Belanja =====\")\n",
        "print(f\"Total belanja: Rp {total}\")"
      ],
      "metadata": {
        "id": "nmnboj5o121F",
        "outputId": "2581d173-3a7b-4331-cb2f-202bbe40c835",
        "colab": {
          "base_uri": "https://localhost:8080/"
        }
      },
      "execution_count": null,
      "outputs": [
        {
          "output_type": "stream",
          "name": "stdout",
          "text": [
            "Masukkan nama barang (ketik'selesai'untuk berhenti): Buku\n",
            "Masukkan harga Buku: 50000\n",
            "Masukkan jumlah Buku: 2\n",
            "Masukkan nama barang (ketik'selesai'untuk berhenti): Pulpen\n",
            "Masukkan harga Pulpen: 5000\n",
            "Masukkan jumlah Pulpen: 3\n",
            "Masukkan nama barang (ketik'selesai'untuk berhenti): selesai\n",
            "\n",
            " ===== Struk Belanja =====\n",
            "Total belanja: Rp 115000.0\n"
          ]
        }
      ]
    },
    {
      "cell_type": "markdown",
      "source": [
        "# Penugasan 3 - Menampilkan Deret Angka"
      ],
      "metadata": {
        "id": "bQ59pxPaxfWs"
      }
    },
    {
      "cell_type": "code",
      "source": [
        "for i in range(3, 30, 3):\n",
        "  print(i)"
      ],
      "metadata": {
        "id": "OZsZ2maaxnv-",
        "outputId": "7eb68bd3-6975-4331-e73d-c60355eab193",
        "colab": {
          "base_uri": "https://localhost:8080/"
        }
      },
      "execution_count": null,
      "outputs": [
        {
          "output_type": "stream",
          "name": "stdout",
          "text": [
            "3\n",
            "6\n",
            "9\n",
            "12\n",
            "15\n",
            "18\n",
            "21\n",
            "24\n",
            "27\n"
          ]
        }
      ]
    },
    {
      "cell_type": "markdown",
      "source": [
        "# Penugasan 4 - Hitung Faktorial"
      ],
      "metadata": {
        "id": "t8tJBb7fzVW1"
      }
    },
    {
      "cell_type": "code",
      "source": [
        "x = int(input(\"Masukkan bilangan: \"))\n",
        "faktorial = 1\n",
        "i = 1\n",
        "\n",
        "while x >= i:\n",
        "  faktorial *= i\n",
        "  i += 1\n",
        "\n",
        "print(f\"Faktorial dari {x}, adalah {faktorial}\")"
      ],
      "metadata": {
        "id": "KVXv_eFoza6Q",
        "outputId": "25a1f2fc-a9f4-4838-9887-c346c74d1e25",
        "colab": {
          "base_uri": "https://localhost:8080/"
        }
      },
      "execution_count": null,
      "outputs": [
        {
          "output_type": "stream",
          "name": "stdout",
          "text": [
            "Masukkan bilangan: 4\n",
            "Faktorial dari 4, adalah 24\n"
          ]
        }
      ]
    },
    {
      "cell_type": "markdown",
      "source": [
        "# Penugasan 5 - Pola Segitiga Terbalik"
      ],
      "metadata": {
        "id": "vFJ2WqeY2LRx"
      }
    },
    {
      "cell_type": "code",
      "source": [
        "for i in range(5, 0, -1):\n",
        "  for j in range(i):\n",
        "    print(\"*\", end=\"\")\n",
        "  print()"
      ],
      "metadata": {
        "id": "RRTn3eqK2wHx",
        "outputId": "c000b37d-1243-4733-fdd1-85feaea38b09",
        "colab": {
          "base_uri": "https://localhost:8080/"
        }
      },
      "execution_count": null,
      "outputs": [
        {
          "output_type": "stream",
          "name": "stdout",
          "text": [
            "*****\n",
            "****\n",
            "***\n",
            "**\n",
            "*\n"
          ]
        }
      ]
    },
    {
      "cell_type": "markdown",
      "source": [
        "# Penugasan 6 - Cek Bilangan Prima dengan Break"
      ],
      "metadata": {
        "id": "c-xhr1pC36iu"
      }
    },
    {
      "cell_type": "code",
      "source": [
        "a = int(input(\"Masukkan bilangan: \"))\n",
        "\n",
        "prima = True\n",
        "\n",
        "if a < 2:\n",
        "  prima = False\n",
        "else:\n",
        "  for i in range (2, a):\n",
        "        if a % i == 0:\n",
        "          prima = False\n",
        "          print(f\"{a} habis dibagi {i}, jadi bukan bilangan prima.\")\n",
        "          break\n",
        "if prima:\n",
        "  print(f\"{a} merupakan bilangan prima \")"
      ],
      "metadata": {
        "id": "4GpQElG74ADq",
        "outputId": "3e46bd96-62e8-48b9-dcc4-424984839c4c",
        "colab": {
          "base_uri": "https://localhost:8080/"
        }
      },
      "execution_count": 6,
      "outputs": [
        {
          "output_type": "stream",
          "name": "stdout",
          "text": [
            "Masukkan bilangan: 13\n",
            "13 merupakan bilangan prima \n"
          ]
        }
      ]
    },
    {
      "cell_type": "markdown",
      "source": [
        "# Penugasan 7 - Tampilkan Hanya Bilangan Genap dengan Continue"
      ],
      "metadata": {
        "id": "yvl3mds1ubj6"
      }
    },
    {
      "cell_type": "code",
      "source": [
        "for i in range(1, 21):\n",
        "  if i % 2 == 1:\n",
        "    continue\n",
        "  print(i)"
      ],
      "metadata": {
        "id": "FcFj51tauiiG",
        "outputId": "25e5e439-97d6-43de-bf70-8c8ddca5ca98",
        "colab": {
          "base_uri": "https://localhost:8080/"
        }
      },
      "execution_count": 8,
      "outputs": [
        {
          "output_type": "stream",
          "name": "stdout",
          "text": [
            "2\n",
            "4\n",
            "6\n",
            "8\n",
            "10\n",
            "12\n",
            "14\n",
            "16\n",
            "18\n",
            "20\n"
          ]
        }
      ]
    },
    {
      "cell_type": "markdown",
      "source": [
        "# Penugasan 8 - Iterasi Dictionary Mahasiswa"
      ],
      "metadata": {
        "id": "FW9INirLu8ha"
      }
    },
    {
      "cell_type": "code",
      "source": [
        "data = {\"Nama\" : \"Budi\", \"Umur\" : \"21\", \"Prodi\" : \"Teknik Komputer\"}\n",
        "for k, v in data.items():\n",
        "  print (k, \":\" ,v)"
      ],
      "metadata": {
        "id": "d16n8pNrvB__",
        "outputId": "751cbbc8-9e14-4cbf-829e-5f5717c82434",
        "colab": {
          "base_uri": "https://localhost:8080/"
        }
      },
      "execution_count": 9,
      "outputs": [
        {
          "output_type": "stream",
          "name": "stdout",
          "text": [
            "Nama : Budi\n",
            "Umur : 21\n",
            "Prodi : Teknik Komputer\n"
          ]
        }
      ]
    },
    {
      "cell_type": "markdown",
      "source": [
        "# Penugasan 9 - Enumerate dengan Barang"
      ],
      "metadata": {
        "id": "hrg8jCcxvTHH"
      }
    },
    {
      "cell_type": "code",
      "source": [
        "barang = [\"Buku\", \"Pulpen\", \"Tas\"]\n",
        "\n",
        "for i, name in enumerate(barang, start = 1):\n",
        "  print(i, name)"
      ],
      "metadata": {
        "id": "4lqVQHp5vYhI",
        "outputId": "27de31ab-d5b8-4ecf-bdc4-e4e7d4d18bcc",
        "colab": {
          "base_uri": "https://localhost:8080/"
        }
      },
      "execution_count": 10,
      "outputs": [
        {
          "output_type": "stream",
          "name": "stdout",
          "text": [
            "1 Buku\n",
            "2 Pulpen\n",
            "3 Tas\n"
          ]
        }
      ]
    },
    {
      "cell_type": "markdown",
      "source": [
        "# Penugasan 10 - Studi Kasus-Kasir diskon"
      ],
      "metadata": {
        "id": "d9l3NigswSIB"
      }
    },
    {
      "cell_type": "code",
      "source": [
        "total = 0\n",
        "\n",
        "while True:\n",
        "  barang = input(\"Masukkan nama barang (ketik 'selesai' untuk berhenti): \")\n",
        "  if barang.lower() == \"selesai\":\n",
        "    break\n",
        "  harga = float(input(f\"Masukkan harga {barang}: \"))\n",
        "  jumlah = int(input(f\"Masukkan jumlah {barang}: \"))\n",
        "  subtotal = harga * jumlah\n",
        "  total += subtotal\n",
        "\n",
        "  if total >= 200000:\n",
        "    diskon = subtotal * 90/100\n",
        "  else:\n",
        "    diskon = total\n",
        "\n",
        "print(\"\\n ===== Struk Belanja =====\")\n",
        "print(f\"Total belanja: Rp {diskon:,.0f}\")"
      ],
      "metadata": {
        "id": "Ledz0uHKxRKU",
        "outputId": "cdfa31d1-6aa3-45b0-bd82-139294557fdb",
        "colab": {
          "base_uri": "https://localhost:8080/"
        }
      },
      "execution_count": 34,
      "outputs": [
        {
          "output_type": "stream",
          "name": "stdout",
          "text": [
            "Masukkan nama barang (ketik'selesai'untuk berhenti): bolepn\n",
            "Masukkan harga bolepn: 1000\n",
            "Masukkan jumlah bolepn: 10\n",
            "Masukkan nama barang (ketik'selesai'untuk berhenti): selesai\n",
            "\n",
            " ===== Struk Belanja =====\n",
            "Total belanja: Rp 10,000\n"
          ]
        }
      ]
    }
  ]
}