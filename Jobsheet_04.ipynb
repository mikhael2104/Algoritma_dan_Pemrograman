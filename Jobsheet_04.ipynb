{
  "nbformat": 4,
  "nbformat_minor": 0,
  "metadata": {
    "colab": {
      "provenance": [],
      "authorship_tag": "ABX9TyPDQpOQEpXR6anUQLjBZG1E",
      "include_colab_link": true
    },
    "kernelspec": {
      "name": "python3",
      "display_name": "Python 3"
    },
    "language_info": {
      "name": "python"
    }
  },
  "cells": [
    {
      "cell_type": "markdown",
      "metadata": {
        "id": "view-in-github",
        "colab_type": "text"
      },
      "source": [
        "<a href=\"https://colab.research.google.com/github/mikhael2104/Algoritma_dan_Pemrograman/blob/main/Jobsheet_04.ipynb\" target=\"_parent\"><img src=\"https://colab.research.google.com/assets/colab-badge.svg\" alt=\"Open In Colab\"/></a>"
      ]
    },
    {
      "cell_type": "markdown",
      "source": [
        "# **Jobsheet 04**"
      ],
      "metadata": {
        "id": "tPiDG5Fne8l_"
      }
    },
    {
      "cell_type": "markdown",
      "source": [
        "# Praktikum 1 - Perulangan For dengan Range"
      ],
      "metadata": {
        "id": "aSyf5wbWfA-n"
      }
    },
    {
      "cell_type": "code",
      "execution_count": 22,
      "metadata": {
        "id": "YDemvjZYdUHT",
        "outputId": "2555fdbe-085e-4010-8f13-bfa11c077b17",
        "colab": {
          "base_uri": "https://localhost:8080/"
        }
      },
      "outputs": [
        {
          "output_type": "stream",
          "name": "stdout",
          "text": [
            "1\n",
            "2\n",
            "3\n",
            "4\n",
            "5\n"
          ]
        }
      ],
      "source": [
        "for i in range (1, 6):\n",
        "  print(i)"
      ]
    },
    {
      "cell_type": "markdown",
      "source": [
        "# Praktikum 2 - Perulangan While"
      ],
      "metadata": {
        "id": "06qzHBpmf81q"
      }
    },
    {
      "cell_type": "code",
      "source": [
        "n = int(input(\"Masukkan angkka: \"))\n",
        "\n",
        "while n > 0:\n",
        "  print(n)\n",
        "  n -= 1"
      ],
      "metadata": {
        "id": "9ZbESHk5gBci",
        "outputId": "70e0393b-ff44-4bc9-e0c7-a16759bb0e45",
        "colab": {
          "base_uri": "https://localhost:8080/"
        }
      },
      "execution_count": 23,
      "outputs": [
        {
          "output_type": "stream",
          "name": "stdout",
          "text": [
            "Masukkan angkka: 5\n",
            "5\n",
            "4\n",
            "3\n",
            "2\n",
            "1\n"
          ]
        }
      ]
    },
    {
      "cell_type": "markdown",
      "source": [
        "# Praktikum 3 - Nested Loop (Segitiga Bintang)"
      ],
      "metadata": {
        "id": "KmYLbD4tj-WI"
      }
    },
    {
      "cell_type": "code",
      "source": [
        "for i in range(1, 6):\n",
        "  for j in range(i):\n",
        "    print(\"*\", end=\"\")\n",
        "  print()\n"
      ],
      "metadata": {
        "id": "gsGRTYX6jWxu",
        "outputId": "31dfdb13-22ca-4f95-9e13-24b191c7a055",
        "colab": {
          "base_uri": "https://localhost:8080/"
        }
      },
      "execution_count": 25,
      "outputs": [
        {
          "output_type": "stream",
          "name": "stdout",
          "text": [
            "*\n",
            "**\n",
            "***\n",
            "****\n",
            "*****\n"
          ]
        }
      ]
    },
    {
      "cell_type": "markdown",
      "source": [
        "# Praktikum 4 - Break and Continue"
      ],
      "metadata": {
        "id": "mxoYqpu4mLjA"
      }
    },
    {
      "cell_type": "code",
      "source": [
        "for i in range (1, 11):\n",
        "  if i == 11:\n",
        "      break\n",
        "  print(i)"
      ],
      "metadata": {
        "id": "FK0IE3lDmU8S",
        "outputId": "dcbd9838-b0ea-4f1b-961b-938c4696a93a",
        "colab": {
          "base_uri": "https://localhost:8080/"
        }
      },
      "execution_count": 32,
      "outputs": [
        {
          "output_type": "stream",
          "name": "stdout",
          "text": [
            "1\n",
            "2\n",
            "3\n",
            "4\n",
            "5\n",
            "6\n",
            "7\n",
            "8\n",
            "9\n",
            "10\n"
          ]
        }
      ]
    },
    {
      "cell_type": "code",
      "source": [
        "for i in range(1, 6):\n",
        "  if i % 2 == 1:\n",
        "    continue\n",
        "  print(i)"
      ],
      "metadata": {
        "id": "Bfsg1AnG86GC",
        "outputId": "a82992fc-da77-4a30-ba2b-f5038c26cf00",
        "colab": {
          "base_uri": "https://localhost:8080/"
        }
      },
      "execution_count": 36,
      "outputs": [
        {
          "output_type": "stream",
          "name": "stdout",
          "text": [
            "2\n",
            "4\n"
          ]
        }
      ]
    },
    {
      "cell_type": "markdown",
      "source": [
        "# Praktikum 5 - For pada Dictionary"
      ],
      "metadata": {
        "id": "jqOUhvuhyxPB"
      }
    },
    {
      "cell_type": "code",
      "source": [
        "data = {\"Nama\" : \"Andi\", \"Umur\" : \"20\", \"Prodi\" : \"TRK\"}\n",
        "for k, v in data.items():\n",
        "  print (k, \":\" ,v)"
      ],
      "metadata": {
        "id": "CNS6yFMnmcZ0",
        "outputId": "2ee4a967-2a65-4387-81a5-2cd85c4dad27",
        "colab": {
          "base_uri": "https://localhost:8080/"
        }
      },
      "execution_count": 12,
      "outputs": [
        {
          "output_type": "stream",
          "name": "stdout",
          "text": [
            "Nama : Andi\n",
            "Umur : 20\n",
            "Prodi : TRK\n"
          ]
        }
      ]
    },
    {
      "cell_type": "markdown",
      "source": [
        "# Praktikum 6 - For dengan Enumarate"
      ],
      "metadata": {
        "id": "TpoQ1LPxzgO-"
      }
    },
    {
      "cell_type": "code",
      "source": [
        "daftar = [\"Andi\", \"Budi\", \"Cici\"]\n",
        "\n",
        "for i, nama in enumerate(daftar, start = 1):\n",
        "  print(i, nama)"
      ],
      "metadata": {
        "id": "0iPowH3UzmiW",
        "outputId": "64b678dd-2287-4e5a-d08a-4707adb2482a",
        "colab": {
          "base_uri": "https://localhost:8080/"
        }
      },
      "execution_count": 38,
      "outputs": [
        {
          "output_type": "stream",
          "name": "stdout",
          "text": [
            "1 Andi\n",
            "2 Budi\n",
            "3 Cici\n"
          ]
        }
      ]
    },
    {
      "cell_type": "markdown",
      "source": [
        "# Praktikum 7 - Program Kasir Multi-item"
      ],
      "metadata": {
        "id": "oyLE-Gw71xty"
      }
    },
    {
      "cell_type": "code",
      "source": [
        "total = 0\n",
        "\n",
        "while True:\n",
        "  barang = input(\"Masukkan nama barang (ketik'selesai'untuk berhenti): \")\n",
        "  if barang.lower() == \"selesai\":\n",
        "    break\n",
        "  harga = float(input(f\"Masukkan harga {barang}: \"))\n",
        "  jumlah = int(input(f\"Masukkan jumlah {barang}: \"))\n",
        "  subtotal = harga * jumlah\n",
        "  total += subtotal\n",
        "\n",
        "print(\"\\n ===== Struk Belanja =====\")\n",
        "print(f\"Total belanja: Rp {total}\")"
      ],
      "metadata": {
        "id": "nmnboj5o121F",
        "outputId": "2581d173-3a7b-4331-cb2f-202bbe40c835",
        "colab": {
          "base_uri": "https://localhost:8080/"
        }
      },
      "execution_count": 19,
      "outputs": [
        {
          "output_type": "stream",
          "name": "stdout",
          "text": [
            "Masukkan nama barang (ketik'selesai'untuk berhenti): Buku\n",
            "Masukkan harga Buku: 50000\n",
            "Masukkan jumlah Buku: 2\n",
            "Masukkan nama barang (ketik'selesai'untuk berhenti): Pulpen\n",
            "Masukkan harga Pulpen: 5000\n",
            "Masukkan jumlah Pulpen: 3\n",
            "Masukkan nama barang (ketik'selesai'untuk berhenti): selesai\n",
            "\n",
            " ===== Struk Belanja =====\n",
            "Total belanja: Rp 115000.0\n"
          ]
        }
      ]
    }
  ]
}