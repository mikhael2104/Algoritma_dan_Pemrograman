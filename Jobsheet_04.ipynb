{
  "nbformat": 4,
  "nbformat_minor": 0,
  "metadata": {
    "colab": {
      "provenance": [],
      "authorship_tag": "ABX9TyOhHPlGzNYViT1yAyV5qwdS",
      "include_colab_link": true
    },
    "kernelspec": {
      "name": "python3",
      "display_name": "Python 3"
    },
    "language_info": {
      "name": "python"
    }
  },
  "cells": [
    {
      "cell_type": "markdown",
      "metadata": {
        "id": "view-in-github",
        "colab_type": "text"
      },
      "source": [
        "<a href=\"https://colab.research.google.com/github/mikhael2104/Algoritma_dan_Pemrograman/blob/main/Jobsheet_04.ipynb\" target=\"_parent\"><img src=\"https://colab.research.google.com/assets/colab-badge.svg\" alt=\"Open In Colab\"/></a>"
      ]
    },
    {
      "cell_type": "markdown",
      "source": [
        "# **Jobsheet 04**"
      ],
      "metadata": {
        "id": "tPiDG5Fne8l_"
      }
    },
    {
      "cell_type": "markdown",
      "source": [
        "# Praktikum 1 - Perulangan For dengan Range"
      ],
      "metadata": {
        "id": "aSyf5wbWfA-n"
      }
    },
    {
      "cell_type": "code",
      "execution_count": 1,
      "metadata": {
        "id": "YDemvjZYdUHT",
        "outputId": "d0300308-d972-4055-e7b9-e546215fdf0e",
        "colab": {
          "base_uri": "https://localhost:8080/"
        }
      },
      "outputs": [
        {
          "output_type": "stream",
          "name": "stdout",
          "text": [
            "1\n",
            "2\n",
            "3\n",
            "4\n",
            "5\n"
          ]
        }
      ],
      "source": [
        "for i in range (1, 6):\n",
        "  print(i)"
      ]
    },
    {
      "cell_type": "markdown",
      "source": [
        "# Praktikum 2 - Perulangan While"
      ],
      "metadata": {
        "id": "06qzHBpmf81q"
      }
    },
    {
      "cell_type": "code",
      "source": [
        "n = int(input(\"Masukkan angkka: \"))\n"
      ],
      "metadata": {
        "id": "9ZbESHk5gBci"
      },
      "execution_count": null,
      "outputs": []
    },
    {
      "cell_type": "markdown",
      "source": [
        "# Praktikum 3 - Nested Loop (Segitiga Bintang)"
      ],
      "metadata": {
        "id": "KmYLbD4tj-WI"
      }
    },
    {
      "cell_type": "code",
      "source": [
        "for i in range(1, 6):\n",
        "  for j in range(i):\n",
        "    print(\"*\", end=\"\")\n",
        "  print()\n"
      ],
      "metadata": {
        "id": "gsGRTYX6jWxu",
        "outputId": "15b13f9d-4a93-4f8a-a3ce-567da988ae47",
        "colab": {
          "base_uri": "https://localhost:8080/"
        }
      },
      "execution_count": 2,
      "outputs": [
        {
          "output_type": "stream",
          "name": "stdout",
          "text": [
            "*\n",
            "**\n",
            "***\n",
            "****\n",
            "*****\n"
          ]
        }
      ]
    },
    {
      "cell_type": "markdown",
      "source": [
        "# Praktikum 4 - Break and Continue"
      ],
      "metadata": {
        "id": "mxoYqpu4mLjA"
      }
    },
    {
      "cell_type": "code",
      "source": [
        "for i in range (1, 6):\n",
        "  if i % 2 == 1:\n",
        "      continue\n",
        "  print(i)"
      ],
      "metadata": {
        "id": "FK0IE3lDmU8S",
        "outputId": "1626d2de-ab74-4951-a136-02988d7cb3a1",
        "colab": {
          "base_uri": "https://localhost:8080/"
        }
      },
      "execution_count": 8,
      "outputs": [
        {
          "output_type": "stream",
          "name": "stdout",
          "text": [
            "2\n",
            "4\n"
          ]
        }
      ]
    },
    {
      "cell_type": "code",
      "source": [],
      "metadata": {
        "id": "CNS6yFMnmcZ0"
      },
      "execution_count": null,
      "outputs": []
    }
  ]
}