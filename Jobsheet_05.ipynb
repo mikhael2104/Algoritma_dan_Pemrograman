{
  "nbformat": 4,
  "nbformat_minor": 0,
  "metadata": {
    "colab": {
      "provenance": [],
      "authorship_tag": "ABX9TyM4vVasXqyWHVgwQ92I5Vsd",
      "include_colab_link": true
    },
    "kernelspec": {
      "name": "python3",
      "display_name": "Python 3"
    },
    "language_info": {
      "name": "python"
    }
  },
  "cells": [
    {
      "cell_type": "markdown",
      "metadata": {
        "id": "view-in-github",
        "colab_type": "text"
      },
      "source": [
        "<a href=\"https://colab.research.google.com/github/mikhael2104/Algoritma_dan_Pemrograman/blob/main/Jobsheet_05.ipynb\" target=\"_parent\"><img src=\"https://colab.research.google.com/assets/colab-badge.svg\" alt=\"Open In Colab\"/></a>"
      ]
    },
    {
      "cell_type": "markdown",
      "source": [
        "# Praktikum 1 - Indexing dan Slicing"
      ],
      "metadata": {
        "id": "1-ZsBUNuNNtd"
      }
    },
    {
      "cell_type": "code",
      "execution_count": 3,
      "metadata": {
        "id": "RdhfEfE9mjnB",
        "outputId": "3299710e-6b7d-455e-a6cf-acfd8d5beb1d",
        "colab": {
          "base_uri": "https://localhost:8080/"
        }
      },
      "outputs": [
        {
          "output_type": "stream",
          "name": "stdout",
          "text": [
            "P\n",
            "Politeknik \n",
            "Semarang\n"
          ]
        }
      ],
      "source": [
        "teks = \"Politeknik Negeri Semarang\"\n",
        "\n",
        "print(teks[0])\n",
        "print(teks[0:11])\n",
        "print(teks[-8:])"
      ]
    },
    {
      "cell_type": "markdown",
      "source": [
        "# Praktikum 2 - Method Bawaan String"
      ],
      "metadata": {
        "id": "USPQ_IU8ON51"
      }
    },
    {
      "cell_type": "code",
      "source": [
        "teks = \"Politeknik Negeri Semarang\"\n",
        "\n",
        "print(teks.upper())\n",
        "print(teks.lower())\n",
        "print(teks.title())\n",
        "print(teks.strip())\n",
        "print(teks.split())\n",
        "print(\"-\".join([\"Politeknik\", \"Negeri\", \"Semarang\"]))"
      ],
      "metadata": {
        "id": "TWhaQuEVOw0d",
        "outputId": "4195fa54-12d8-4787-eb15-b256bb898846",
        "colab": {
          "base_uri": "https://localhost:8080/"
        }
      },
      "execution_count": 4,
      "outputs": [
        {
          "output_type": "stream",
          "name": "stdout",
          "text": [
            "POLITEKNIK NEGERI SEMARANG\n",
            "politeknik negeri semarang\n",
            "Politeknik Negeri Semarang\n",
            "Politeknik Negeri Semarang\n",
            "['Politeknik', 'Negeri', 'Semarang']\n",
            "Politeknik-Negeri-Semarang\n"
          ]
        }
      ]
    },
    {
      "cell_type": "markdown",
      "source": [
        "# Praktikum 3 - Validasi Password"
      ],
      "metadata": {
        "id": "CfU-p0XCQ3AJ"
      }
    },
    {
      "cell_type": "code",
      "source": [
        "password = input(\"masukkan password: \")\n",
        "\n",
        "if len(password) >= 8:\n",
        "  print(\"Password Valid\")\n",
        "else:\n",
        "  print(\"Password Pendek bro\")"
      ],
      "metadata": {
        "id": "viheEcwaQ68u",
        "outputId": "e30261b1-38f6-45d8-9f52-7693c3d3f5b4",
        "colab": {
          "base_uri": "https://localhost:8080/"
        }
      },
      "execution_count": 8,
      "outputs": [
        {
          "output_type": "stream",
          "name": "stdout",
          "text": [
            "masukkan password: 12345678\n",
            "Password Valid\n"
          ]
        }
      ]
    },
    {
      "cell_type": "markdown",
      "source": [
        "# Praktikum 4 - String Formating dengan F-string"
      ],
      "metadata": {
        "id": "KqOHafBVRj2e"
      }
    },
    {
      "cell_type": "code",
      "source": [
        "nama = input(\"Masukkan Nama Anda: \")\n",
        "umur = int(input(\"Masukkan Umur Anda: \"))\n",
        "\n",
        "print(f\"Nama saya {nama}, umur saya {umur} tahun\")"
      ],
      "metadata": {
        "id": "EdxnKQlERrS-",
        "outputId": "76990b8f-d997-4acb-a270-566e12757607",
        "colab": {
          "base_uri": "https://localhost:8080/"
        }
      },
      "execution_count": 9,
      "outputs": [
        {
          "output_type": "stream",
          "name": "stdout",
          "text": [
            "Masukkan Nama Anda: Mikhael\n",
            "Masukkan Umur Anda: 17\n",
            "Nama saya Mikhael, umur saya 17 tahun\n"
          ]
        }
      ]
    },
    {
      "cell_type": "markdown",
      "source": [
        "# Praktikum 5 - Operasi dalam F-string"
      ],
      "metadata": {
        "id": "wN5ZAxSgSCfl"
      }
    },
    {
      "cell_type": "code",
      "source": [
        "a = int(input(\"Masukkan Bilangan 1: \"))\n",
        "b = int(input(\"Masukkan Bilangan 2: \"))\n",
        "\n",
        "print(f\"Hasil penjumlahan dari {a}+{b} = {a+b}\")\n",
        "print(f\"Hasil pembagian dari {a}/{b} = {a/b:.2f}\")"
      ],
      "metadata": {
        "id": "JsYL7ZYlSG-2",
        "outputId": "0669883e-b625-463b-df34-9c3fc3cbc14b",
        "colab": {
          "base_uri": "https://localhost:8080/"
        }
      },
      "execution_count": 15,
      "outputs": [
        {
          "output_type": "stream",
          "name": "stdout",
          "text": [
            "Masukkan Bilangan 1: 5\n",
            "Masukkan Bilangan 2: 2\n",
            "Hasil penjumlahan dari 5+2 = 7\n",
            "Hasil pembagian dari 5/2 = 2.50\n"
          ]
        }
      ]
    },
    {
      "cell_type": "markdown",
      "source": [
        "# Praktikum 6 - Casting String"
      ],
      "metadata": {
        "id": "Fvh-0D6_Sqr6"
      }
    },
    {
      "cell_type": "code",
      "source": [
        "angka = 123\n",
        "teks = \"456\"\n",
        "\n",
        "print(\"Nilai: \" + str(angka))\n",
        "print(int(teks) + 10)"
      ],
      "metadata": {
        "id": "2RYX0YNDSuiP",
        "outputId": "314f1725-2f8c-4c7e-ca05-8f985f69c972",
        "colab": {
          "base_uri": "https://localhost:8080/"
        }
      },
      "execution_count": 16,
      "outputs": [
        {
          "output_type": "stream",
          "name": "stdout",
          "text": [
            "Nilai: 123\n",
            "466\n"
          ]
        }
      ]
    },
    {
      "cell_type": "markdown",
      "source": [
        "# Praktikum 7 - Studi Kasus Nyata: Analisis Kalimat"
      ],
      "metadata": {
        "id": "0YU9X49LTCxo"
      }
    },
    {
      "cell_type": "code",
      "source": [
        "kalimat = \"Saya kuliah di Politeknik Negeri Semarang\"\n",
        "\n",
        "daftar_kata = kalimat.split(\" \")\n",
        "print(f\"jumlah kata: {len(daftar_kata)}\")\n",
        "for i, kata in enumerate(daftar_kata, start=1):\n",
        "  print(i, kata)"
      ],
      "metadata": {
        "id": "LZLLk9jkTI73",
        "outputId": "a20bc93a-e63d-4e3b-afa6-2343112b5a98",
        "colab": {
          "base_uri": "https://localhost:8080/"
        }
      },
      "execution_count": 19,
      "outputs": [
        {
          "output_type": "stream",
          "name": "stdout",
          "text": [
            "jumlah kata: 6\n",
            "1 Saya\n",
            "2 kuliah\n",
            "3 di\n",
            "4 Politeknik\n",
            "5 Negeri\n",
            "6 Semarang\n"
          ]
        }
      ]
    }
  ]
}