{
  "nbformat": 4,
  "nbformat_minor": 0,
  "metadata": {
    "colab": {
      "provenance": [],
      "authorship_tag": "ABX9TyMXDNKcnj0OI8E2R2Q4KOFi",
      "include_colab_link": true
    },
    "kernelspec": {
      "name": "python3",
      "display_name": "Python 3"
    },
    "language_info": {
      "name": "python"
    }
  },
  "cells": [
    {
      "cell_type": "markdown",
      "metadata": {
        "id": "view-in-github",
        "colab_type": "text"
      },
      "source": [
        "<a href=\"https://colab.research.google.com/github/mikhael2104/Algoritma_dan_Pemrograman/blob/main/Jobsheet_05.ipynb\" target=\"_parent\"><img src=\"https://colab.research.google.com/assets/colab-badge.svg\" alt=\"Open In Colab\"/></a>"
      ]
    },
    {
      "cell_type": "markdown",
      "source": [
        "# Praktikum 1 - Indexing dan Slicing"
      ],
      "metadata": {
        "id": "1-ZsBUNuNNtd"
      }
    },
    {
      "cell_type": "code",
      "execution_count": null,
      "metadata": {
        "id": "RdhfEfE9mjnB",
        "outputId": "3299710e-6b7d-455e-a6cf-acfd8d5beb1d",
        "colab": {
          "base_uri": "https://localhost:8080/"
        }
      },
      "outputs": [
        {
          "output_type": "stream",
          "name": "stdout",
          "text": [
            "P\n",
            "Politeknik \n",
            "Semarang\n"
          ]
        }
      ],
      "source": [
        "teks = \"Politeknik Negeri Semarang\"\n",
        "\n",
        "print(teks[0])\n",
        "print(teks[0:11])\n",
        "print(teks[-8:])"
      ]
    },
    {
      "cell_type": "markdown",
      "source": [
        "# Praktikum 2 - Method Bawaan String"
      ],
      "metadata": {
        "id": "USPQ_IU8ON51"
      }
    },
    {
      "cell_type": "code",
      "source": [
        "teks = \"Politeknik Negeri Semarang\"\n",
        "\n",
        "print(teks.upper())\n",
        "print(teks.lower())\n",
        "print(teks.title())\n",
        "print(teks.strip())\n",
        "print(teks.split())\n",
        "print(\"-\".join([\"Politeknik\", \"Negeri\", \"Semarang\"]))"
      ],
      "metadata": {
        "id": "TWhaQuEVOw0d",
        "outputId": "4195fa54-12d8-4787-eb15-b256bb898846",
        "colab": {
          "base_uri": "https://localhost:8080/"
        }
      },
      "execution_count": null,
      "outputs": [
        {
          "output_type": "stream",
          "name": "stdout",
          "text": [
            "POLITEKNIK NEGERI SEMARANG\n",
            "politeknik negeri semarang\n",
            "Politeknik Negeri Semarang\n",
            "Politeknik Negeri Semarang\n",
            "['Politeknik', 'Negeri', 'Semarang']\n",
            "Politeknik-Negeri-Semarang\n"
          ]
        }
      ]
    },
    {
      "cell_type": "markdown",
      "source": [
        "# Praktikum 3 - Validasi Password"
      ],
      "metadata": {
        "id": "CfU-p0XCQ3AJ"
      }
    },
    {
      "cell_type": "code",
      "source": [
        "password = input(\"masukkan password: \")\n",
        "\n",
        "if len(password) >= 8:\n",
        "  print(\"Password Valid\")\n",
        "else:\n",
        "  print(\"Password Pendek bro\")"
      ],
      "metadata": {
        "id": "viheEcwaQ68u",
        "outputId": "0c701316-327e-4d3a-a12c-ea564353ffe7",
        "colab": {
          "base_uri": "https://localhost:8080/"
        }
      },
      "execution_count": 21,
      "outputs": [
        {
          "output_type": "stream",
          "name": "stdout",
          "text": [
            "masukkan password: abc\n",
            "Password Pendek bro\n"
          ]
        }
      ]
    },
    {
      "cell_type": "markdown",
      "source": [
        "# Praktikum 4 - String Formating dengan F-string"
      ],
      "metadata": {
        "id": "KqOHafBVRj2e"
      }
    },
    {
      "cell_type": "code",
      "source": [
        "nama = input(\"Masukkan Nama Anda: \")\n",
        "umur = int(input(\"Masukkan Umur Anda: \"))\n",
        "\n",
        "print(f\"Nama saya {nama}, umur saya {umur} tahun\")"
      ],
      "metadata": {
        "id": "EdxnKQlERrS-",
        "outputId": "e190eaf8-ec06-4770-e4dd-05127f012fc3",
        "colab": {
          "base_uri": "https://localhost:8080/"
        }
      },
      "execution_count": 22,
      "outputs": [
        {
          "output_type": "stream",
          "name": "stdout",
          "text": [
            "Masukkan Nama Anda: Budi\n",
            "Masukkan Umur Anda: 21\n",
            "Nama saya Budi, umur saya 21 tahun\n"
          ]
        }
      ]
    },
    {
      "cell_type": "markdown",
      "source": [
        "# Praktikum 5 - Operasi dalam F-string"
      ],
      "metadata": {
        "id": "wN5ZAxSgSCfl"
      }
    },
    {
      "cell_type": "code",
      "source": [
        "a = int(input(\"Masukkan Bilangan 1: \"))\n",
        "b = int(input(\"Masukkan Bilangan 2: \"))\n",
        "\n",
        "print(f\"Hasil penjumlahan dari {a}+{b} = {a+b}\")\n",
        "print(f\"Hasil pembagian dari {a}/{b} = {a/b:.2f}\")"
      ],
      "metadata": {
        "id": "JsYL7ZYlSG-2",
        "outputId": "c83f908c-3ca7-4c3f-9efc-75e9e3315a6d",
        "colab": {
          "base_uri": "https://localhost:8080/"
        }
      },
      "execution_count": 23,
      "outputs": [
        {
          "output_type": "stream",
          "name": "stdout",
          "text": [
            "Masukkan Bilangan 1: 10\n",
            "Masukkan Bilangan 2: 3\n",
            "Hasil penjumlahan dari 10+3 = 13\n",
            "Hasil pembagian dari 10/3 = 3.33\n"
          ]
        }
      ]
    },
    {
      "cell_type": "markdown",
      "source": [
        "# Praktikum 6 - Casting String"
      ],
      "metadata": {
        "id": "Fvh-0D6_Sqr6"
      }
    },
    {
      "cell_type": "code",
      "source": [
        "angka = 123\n",
        "teks = \"456\"\n",
        "\n",
        "print(\"Nilai: \" + str(angka))\n",
        "print(int(teks) + 10)"
      ],
      "metadata": {
        "id": "2RYX0YNDSuiP",
        "outputId": "314f1725-2f8c-4c7e-ca05-8f985f69c972",
        "colab": {
          "base_uri": "https://localhost:8080/"
        }
      },
      "execution_count": null,
      "outputs": [
        {
          "output_type": "stream",
          "name": "stdout",
          "text": [
            "Nilai: 123\n",
            "466\n"
          ]
        }
      ]
    },
    {
      "cell_type": "markdown",
      "source": [
        "# Praktikum 7 - Studi Kasus Nyata: Analisis Kalimat"
      ],
      "metadata": {
        "id": "0YU9X49LTCxo"
      }
    },
    {
      "cell_type": "code",
      "source": [
        "kalimat = \"Saya kuliah di Politeknik Negeri Semarang\"\n",
        "\n",
        "daftar_kata = kalimat.split(\" \")\n",
        "print(f\"jumlah kata: {len(daftar_kata)}\")\n",
        "for i, kata in enumerate(daftar_kata, start=1):\n",
        "  print(i, kata)"
      ],
      "metadata": {
        "id": "LZLLk9jkTI73",
        "outputId": "a20bc93a-e63d-4e3b-afa6-2343112b5a98",
        "colab": {
          "base_uri": "https://localhost:8080/"
        }
      },
      "execution_count": null,
      "outputs": [
        {
          "output_type": "stream",
          "name": "stdout",
          "text": [
            "jumlah kata: 6\n",
            "1 Saya\n",
            "2 kuliah\n",
            "3 di\n",
            "4 Politeknik\n",
            "5 Negeri\n",
            "6 Semarang\n"
          ]
        }
      ]
    },
    {
      "cell_type": "markdown",
      "source": [
        "# Penugasan 3 - Indexing dan Slicing"
      ],
      "metadata": {
        "id": "IHDd0M53UHLg"
      }
    },
    {
      "cell_type": "code",
      "source": [
        "teks = \"Politeknik Negeri Semarang\"\n",
        "\n",
        "print(teks[0])\n",
        "print(teks[-1])\n",
        "print(teks[11:17])"
      ],
      "metadata": {
        "id": "ABmYYlDBWPhF",
        "outputId": "52fd6ec0-beea-466a-ff94-27949f7e0b19",
        "colab": {
          "base_uri": "https://localhost:8080/"
        }
      },
      "execution_count": 30,
      "outputs": [
        {
          "output_type": "stream",
          "name": "stdout",
          "text": [
            "P\n",
            "g\n",
            "Negeri\n"
          ]
        }
      ]
    },
    {
      "cell_type": "markdown",
      "source": [
        "# Penugasan 4 - Manipulasi String"
      ],
      "metadata": {
        "id": "vDi9ryd5XUqz"
      }
    },
    {
      "cell_type": "code",
      "source": [
        "nama = input(\"Masukkan Nama Lengkap: \")\n",
        "\n",
        "print(nama.upper())\n",
        "print(nama.lower())\n",
        "print(len(nama))"
      ],
      "metadata": {
        "id": "Gh5C00S2XbnJ",
        "outputId": "6557e15e-fe20-4941-90ae-c3f3c79b1b51",
        "colab": {
          "base_uri": "https://localhost:8080/"
        }
      },
      "execution_count": 33,
      "outputs": [
        {
          "output_type": "stream",
          "name": "stdout",
          "text": [
            "Masukkan Nama Lengkap: Mikhael Surya Adeputra\n",
            "MIKHAEL SURYA ADEPUTRA\n",
            "mikhael surya adeputra\n",
            "22\n"
          ]
        }
      ]
    },
    {
      "cell_type": "markdown",
      "source": [
        "# Penugasan 5 - Validasi Username"
      ],
      "metadata": {
        "id": "zEQo3TjTkwXe"
      }
    },
    {
      "cell_type": "code",
      "source": [
        "username = input(\"Masukkan username: \")\n",
        "\n",
        "if \" \" in username:\n",
        "  print(\"Username tidak boleh memiliki spasi\")\n",
        "else:\n",
        "  print(\"Username valid\")"
      ],
      "metadata": {
        "id": "TOb6EhH3k1AK",
        "outputId": "3ea173eb-feaa-44c7-a3fb-8d69d9a96483",
        "colab": {
          "base_uri": "https://localhost:8080/"
        }
      },
      "execution_count": 36,
      "outputs": [
        {
          "output_type": "stream",
          "name": "stdout",
          "text": [
            "Masukkan username: mikh ael\n",
            "Username tidak boleh memiliki spasi\n"
          ]
        }
      ]
    },
    {
      "cell_type": "markdown",
      "source": [
        "# Penugasan 6 - String Formating dengan F-string"
      ],
      "metadata": {
        "id": "1NlECo0xlba_"
      }
    },
    {
      "cell_type": "code",
      "source": [
        "nama = input(\"Masukkan nama anda: \")\n",
        "umur = int(input(\"Masukkan umur anda: \"))\n",
        "jurusan = str(input(\"Masukkan jurusan anda:\"))\n",
        "\n",
        "print(f\"\\nNama: {nama} \\nUmur: {umur} \\nJurusan: {jurusan}\")"
      ],
      "metadata": {
        "id": "nfw2-lZLlf_b",
        "outputId": "8a2ea589-0c06-4014-8be7-12aa6475efa9",
        "colab": {
          "base_uri": "https://localhost:8080/"
        }
      },
      "execution_count": 44,
      "outputs": [
        {
          "output_type": "stream",
          "name": "stdout",
          "text": [
            "Masukkan nama anda: Andi\n",
            "Masukkan umur anda: 20\n",
            "Masukkan jurusan anda:Teknologi Rekayasa Komputer\n",
            "\n",
            "Nama: Andi \n",
            "Umur: 20 \n",
            "Jurusan: Teknologi Rekayasa Komputer\n"
          ]
        }
      ]
    },
    {
      "cell_type": "markdown",
      "source": [
        "# Penugasan 7 - Operasi dalam F-string"
      ],
      "metadata": {
        "id": "XnT7SN80m0Ay"
      }
    },
    {
      "cell_type": "code",
      "source": [
        "a = int(input(\"Masukkan bilangan 1: \"))\n",
        "b = int(input(\"Masukkan bilangan 2: \"))\n",
        "\n",
        "print(f\"\\n{a} + {b} = {a+b}\")\n",
        "print(f\"{a} * {b} = {a*b}\")\n",
        "print(f\"{a} / {b} = {a/b:.3f}\")"
      ],
      "metadata": {
        "id": "k-WZFgfdm5pG",
        "outputId": "1f9c0595-dfcd-4416-aa6b-e2c10d448c03",
        "colab": {
          "base_uri": "https://localhost:8080/"
        }
      },
      "execution_count": 46,
      "outputs": [
        {
          "output_type": "stream",
          "name": "stdout",
          "text": [
            "Masukkan bilangan 1: 10\n",
            "Masukkan bilangan 2: 3\n",
            "\n",
            "10 + 3 = 13\n",
            "10 * 3 = 30\n",
            "10 / 3 = 3.333\n"
          ]
        }
      ]
    },
    {
      "cell_type": "markdown",
      "source": [
        "# Penugasan 8 - Casting Data"
      ],
      "metadata": {
        "id": "w2_e0r-2ndxo"
      }
    },
    {
      "cell_type": "code",
      "source": [
        "angka = (input(\"Masukkan angka: \"))\n",
        "angka_float = float(angka)\n",
        "\n",
        "print(\"Hasil Kuadrat: \", int(angka)**2)\n",
        "print(f\"Hasil float: \", format(angka_float, \".2f\"))"
      ],
      "metadata": {
        "id": "8TiN0ZDYniIl",
        "outputId": "f1212988-9d16-45ed-dfc0-5f2dfd951377",
        "colab": {
          "base_uri": "https://localhost:8080/"
        }
      },
      "execution_count": 69,
      "outputs": [
        {
          "output_type": "stream",
          "name": "stdout",
          "text": [
            "Masukkan angka: 4\n",
            "Hasil Kuadrat:  16\n",
            "Hasil float:  4.00\n"
          ]
        }
      ]
    },
    {
      "cell_type": "markdown",
      "source": [
        "# Penugasan 9 - Studi Kasus - Analisis Teks"
      ],
      "metadata": {
        "id": "C_bandkGqsTW"
      }
    },
    {
      "cell_type": "code",
      "source": [
        "kalimat = input(\"Masukkan kalimat: \")\n",
        "kata = kalimat.split()\n",
        "\n",
        "print(\"Jumlah kata: \", len(kalimat))\n",
        "print(\"Kata Terpanjang: \", max(kata, key=len))\n",
        "print(\"Daftar kata (urutan abjad): \", sorted(kata))"
      ],
      "metadata": {
        "id": "-r81oSFRqz4R",
        "outputId": "0f4099c0-42f8-4068-ab89-1d8b178e4e9d",
        "colab": {
          "base_uri": "https://localhost:8080/"
        }
      },
      "execution_count": 73,
      "outputs": [
        {
          "output_type": "stream",
          "name": "stdout",
          "text": [
            "Masukkan kalimat: halo semuanya namaku mikel\n",
            "Jumlah kata:  26\n",
            "Kata Terpanjang:  semuanya\n",
            "Daftar kata (urutan abjad):  ['halo', 'mikel', 'namaku', 'semuanya']\n"
          ]
        }
      ]
    }
  ]
}