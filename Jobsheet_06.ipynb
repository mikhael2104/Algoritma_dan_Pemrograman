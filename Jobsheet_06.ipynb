{
  "nbformat": 4,
  "nbformat_minor": 0,
  "metadata": {
    "colab": {
      "provenance": [],
      "authorship_tag": "ABX9TyOYgTwiPTb03h59Wlm+Xa42",
      "include_colab_link": true
    },
    "kernelspec": {
      "name": "python3",
      "display_name": "Python 3"
    },
    "language_info": {
      "name": "python"
    }
  },
  "cells": [
    {
      "cell_type": "markdown",
      "metadata": {
        "id": "view-in-github",
        "colab_type": "text"
      },
      "source": [
        "<a href=\"https://colab.research.google.com/github/mikhael2104/Algoritma_dan_Pemrograman/blob/main/Jobsheet_06.ipynb\" target=\"_parent\"><img src=\"https://colab.research.google.com/assets/colab-badge.svg\" alt=\"Open In Colab\"/></a>"
      ]
    },
    {
      "cell_type": "markdown",
      "source": [
        "# Praktikum 1 - Membuat dan mengakses list 1D"
      ],
      "metadata": {
        "id": "MHouvazobKn5"
      }
    },
    {
      "cell_type": "code",
      "execution_count": null,
      "metadata": {
        "colab": {
          "base_uri": "https://localhost:8080/"
        },
        "id": "3n1gQ1hDa35e",
        "outputId": "5d5ab50d-7274-4e3d-b5e1-2d6e3145bb35"
      },
      "outputs": [
        {
          "output_type": "stream",
          "name": "stdout",
          "text": [
            "Andi\n",
            "Budi\n",
            "Cici\n"
          ]
        }
      ],
      "source": [
        "mahasiswa = [\"Andi\", \"Budi\", \"Cici\"]\n",
        "print(mahasiswa[0])\n",
        "print(mahasiswa[1])\n",
        "print(mahasiswa[-1])"
      ]
    },
    {
      "cell_type": "markdown",
      "source": [
        "# Praktikum 2 - Update dan Operasi Dasar List"
      ],
      "metadata": {
        "id": "VPGTC8MCbt5T"
      }
    },
    {
      "cell_type": "code",
      "source": [
        "nilai = [85, 90, 78]\n",
        "\n",
        "nilai[1] = 95\n",
        "nilai.append(100)\n",
        "nilai.remove(78)\n",
        "print(nilai)"
      ],
      "metadata": {
        "colab": {
          "base_uri": "https://localhost:8080/"
        },
        "id": "X-0rRsTVbzYx",
        "outputId": "469beb9d-be75-4c83-d6b2-1a39fa144b9d"
      },
      "execution_count": null,
      "outputs": [
        {
          "output_type": "stream",
          "name": "stdout",
          "text": [
            "[85, 95, 100]\n"
          ]
        }
      ]
    },
    {
      "cell_type": "markdown",
      "source": [
        "# Praktikum 3 - Slicing List"
      ],
      "metadata": {
        "id": "pscJSy9YcM08"
      }
    },
    {
      "cell_type": "code",
      "source": [
        "nilai = [85, 90, 78, 92, 88]\n",
        "\n",
        "print(nilai[0:3])\n",
        "print(nilai[2:])\n",
        "print(nilai[:3])"
      ],
      "metadata": {
        "colab": {
          "base_uri": "https://localhost:8080/"
        },
        "id": "-ezrfvzZcQnB",
        "outputId": "06f8b1b6-0fbc-46df-ac4c-95f3bb708359"
      },
      "execution_count": null,
      "outputs": [
        {
          "output_type": "stream",
          "name": "stdout",
          "text": [
            "[85, 90, 78]\n",
            "[78, 92, 88]\n",
            "[85, 90, 78]\n"
          ]
        }
      ]
    },
    {
      "cell_type": "markdown",
      "source": [
        "# Praktikum 4 - List 2D (Matriks)"
      ],
      "metadata": {
        "id": "qYSI1UbwcmCJ"
      }
    },
    {
      "cell_type": "code",
      "source": [
        "matriks = [\n",
        "    [1, 2, 3],\n",
        "    [4, 5, 6],\n",
        "    [7, 8, 9]\n",
        "]\n",
        "\n",
        "print(matriks[0][0])\n",
        "print(matriks[1][2])\n",
        "print(matriks[2])"
      ],
      "metadata": {
        "colab": {
          "base_uri": "https://localhost:8080/"
        },
        "id": "KSm9OB-pcrbx",
        "outputId": "587a2497-f6e1-4ede-a22f-5c060bcdc04c"
      },
      "execution_count": null,
      "outputs": [
        {
          "output_type": "stream",
          "name": "stdout",
          "text": [
            "1\n",
            "6\n",
            "[7, 8, 9]\n"
          ]
        }
      ]
    },
    {
      "cell_type": "markdown",
      "source": [
        "# Praktikum 5 - Operasi pada List 2D"
      ],
      "metadata": {
        "id": "kDphjYBoS6Ej"
      }
    },
    {
      "cell_type": "code",
      "source": [
        "A = [\n",
        "    [1, 2, 3],\n",
        "    [4, 5, 6]\n",
        "]\n",
        "\n",
        "B = [\n",
        "    [7, 8, 9],\n",
        "    [10, 11, 12]\n",
        "]\n",
        "\n",
        "C = []\n",
        "\n",
        "for i in range(len(A)):\n",
        "  baris = []\n",
        "  for j in range(len(A[0])):\n",
        "    baris.append(A[i][j] + B[i][j])\n",
        "  C.append(baris)\n",
        "print(C)"
      ],
      "metadata": {
        "id": "QEIM9tT_TSKI",
        "outputId": "b8d20db3-f3fd-45ef-c894-2e5b00713d9d",
        "colab": {
          "base_uri": "https://localhost:8080/"
        }
      },
      "execution_count": null,
      "outputs": [
        {
          "output_type": "stream",
          "name": "stdout",
          "text": [
            "[[8, 10, 12], [14, 16, 18]]\n"
          ]
        }
      ]
    },
    {
      "cell_type": "markdown",
      "source": [
        "# Praktikum 6 - Studi Kasus: Pengelolaan Nilai Mahasiswa"
      ],
      "metadata": {
        "id": "RP2kTsO0Uhsp"
      }
    },
    {
      "cell_type": "code",
      "source": [
        "nilai = [\n",
        "  [80, 90, 85],\n",
        "  [70, 75, 80],\n",
        "  [88, 92, 84]\n",
        "]\n",
        "\n",
        "for i, baris in enumerate(nilai, start=1):\n",
        "  rata = sum(baris) / len(baris)\n",
        "  print(f\"Rata-rata mahasiswa {i}: {rata:.2f}\")"
      ],
      "metadata": {
        "id": "mviCQ_Z0UnTe",
        "outputId": "f301d244-6935-4a09-aa85-f756bb7b3218",
        "colab": {
          "base_uri": "https://localhost:8080/"
        }
      },
      "execution_count": null,
      "outputs": [
        {
          "output_type": "stream",
          "name": "stdout",
          "text": [
            "Rata-rata mahasiswa 1: 85.00\n",
            "Rata-rata mahasiswa 2: 75.00\n",
            "Rata-rata mahasiswa 3: 88.00\n"
          ]
        }
      ]
    },
    {
      "cell_type": "markdown",
      "source": [
        "# **Bagian Penugasan**"
      ],
      "metadata": {
        "id": "7ADSwDzJuqMx"
      }
    },
    {
      "cell_type": "markdown",
      "source": [
        "# Penugasan 3 - Akses Elemen List\n",
        "\n"
      ],
      "metadata": {
        "id": "ndzPK4XKthiy"
      }
    },
    {
      "cell_type": "code",
      "source": [
        "mahasiswa = [\"Mikhael\", \"Farel\", \"Faiq\", \"Tegar\", \"Dasi\"]\n",
        "\n",
        "print(mahasiswa[0])\n",
        "print(mahasiswa[-1])\n",
        "print(mahasiswa[2])"
      ],
      "metadata": {
        "id": "yI0sk_tBtms_",
        "outputId": "27263055-966a-4bb4-9763-e4645a8b11d6",
        "colab": {
          "base_uri": "https://localhost:8080/"
        }
      },
      "execution_count": 1,
      "outputs": [
        {
          "output_type": "stream",
          "name": "stdout",
          "text": [
            "Mikhael\n",
            "Dasi\n",
            "Faiq\n"
          ]
        }
      ]
    },
    {
      "cell_type": "markdown",
      "source": [
        "# Penugasan 4 - Operasi Dasar List teks tebal"
      ],
      "metadata": {
        "id": "P4aL5-5Bt81N"
      }
    },
    {
      "cell_type": "code",
      "source": [
        "nilai = [70, 75, 80]\n",
        "\n",
        "nilai[2] = 85\n",
        "nilai.append(90)\n",
        "nilai.remove(70)\n",
        "\n",
        "print(nilai)"
      ],
      "metadata": {
        "id": "2dzvnfJut_63",
        "outputId": "84a1b37a-b631-4ab5-93ab-46063f2366ad",
        "colab": {
          "base_uri": "https://localhost:8080/"
        }
      },
      "execution_count": 5,
      "outputs": [
        {
          "output_type": "stream",
          "name": "stdout",
          "text": [
            "[75, 85, 90]\n"
          ]
        }
      ]
    },
    {
      "cell_type": "markdown",
      "source": [
        "# Penugasan 5 - Slicing List"
      ],
      "metadata": {
        "id": "ov67oWXcufZI"
      }
    },
    {
      "cell_type": "code",
      "source": [
        "angka = list(range(1, 11))\n",
        "\n",
        "indeks_genap = angka[::2]\n",
        "\n",
        "print(angka[:3])\n",
        "print(angka[-4:])\n",
        "print(indeks_genap)"
      ],
      "metadata": {
        "id": "Qq_FnmUHui52",
        "outputId": "e2644f3e-9608-459b-b797-18b74e2e771c",
        "colab": {
          "base_uri": "https://localhost:8080/"
        }
      },
      "execution_count": 22,
      "outputs": [
        {
          "output_type": "stream",
          "name": "stdout",
          "text": [
            "[1, 2, 3]\n",
            "[7, 8, 9, 10]\n",
            "[1, 3, 5, 7, 9]\n"
          ]
        }
      ]
    },
    {
      "cell_type": "markdown",
      "source": [
        "# Penugasan 6 - List 2D-Matriks"
      ],
      "metadata": {
        "id": "2bUtMHiQxT9w"
      }
    },
    {
      "cell_type": "code",
      "source": [
        "matriks = [\n",
        "    [1, 2, 3],\n",
        "    [4, 5, 6],\n",
        "]\n",
        "\n",
        "print(matriks[0][1])\n",
        "print(matriks[1][2])\n",
        "print(matriks[0])"
      ],
      "metadata": {
        "id": "uUXkBBkaxZ37",
        "outputId": "954e0367-88ca-42b1-d306-f17615c7b856",
        "colab": {
          "base_uri": "https://localhost:8080/"
        }
      },
      "execution_count": 25,
      "outputs": [
        {
          "output_type": "stream",
          "name": "stdout",
          "text": [
            "2\n",
            "6\n",
            "[1, 2, 3]\n"
          ]
        }
      ]
    },
    {
      "cell_type": "markdown",
      "source": [
        "# Penugasan 7 - Operasi Matriks 2D"
      ],
      "metadata": {
        "id": "6k8Y0MmuyHFh"
      }
    },
    {
      "cell_type": "code",
      "source": [
        "bil1 = [\n",
        "    [1, 2, 3],\n",
        "    [4, 5, 6]\n",
        "]\n",
        "\n",
        "bil2 = [\n",
        "    [7, 8, 9],\n",
        "    [10, 11, 12]\n",
        "]\n",
        "\n",
        "penjumlahan = []\n",
        "\n",
        "for i in range(len(bil1)):\n",
        "  baris = []\n",
        "  for j in range(len(bil1[0])):\n",
        "    baris.append(bil1[i][j] + bil2[i][j])\n",
        "  penjumlahan.append(baris)\n",
        "print(penjumlahan)"
      ],
      "metadata": {
        "id": "vHhus5TfvEYW",
        "outputId": "8d2dc031-fd72-47e7-9421-e77c7f88101f",
        "colab": {
          "base_uri": "https://localhost:8080/"
        }
      },
      "execution_count": 28,
      "outputs": [
        {
          "output_type": "stream",
          "name": "stdout",
          "text": [
            "[[8, 10, 12], [14, 16, 18]]\n"
          ]
        }
      ]
    },
    {
      "cell_type": "markdown",
      "source": [
        "# Penugasan 8 - Rata rata Nilai Mahasiswa"
      ],
      "metadata": {
        "id": "_jZt5BtVy1vi"
      }
    },
    {
      "cell_type": "code",
      "source": [
        "nilai = [\n",
        "    [75, 80, 85],\n",
        "    [60, 70, 65],\n",
        "    [90, 95, 92]\n",
        "]\n",
        "\n",
        "for i, baris in enumerate(nilai, start = 1):\n",
        "  rerata = sum(baris) / len(baris)\n",
        "  print(f\"Rata-rata mahasiswa {i}: {rerata:.2f}\")"
      ],
      "metadata": {
        "id": "A4kDq7smvHT-",
        "outputId": "1a8a824d-88fc-4e63-9043-e4acfb6fa692",
        "colab": {
          "base_uri": "https://localhost:8080/"
        }
      },
      "execution_count": 30,
      "outputs": [
        {
          "output_type": "stream",
          "name": "stdout",
          "text": [
            "Rata-rata mahasiswa 1: 80.00\n",
            "Rata-rata mahasiswa 2: 65.00\n",
            "Rata-rata mahasiswa 3: 92.33\n"
          ]
        }
      ]
    },
    {
      "cell_type": "markdown",
      "source": [
        "# Penugasan 9 - Studi Kasus: Data Toko"
      ],
      "metadata": {
        "id": "r3s8NAygzo7Z"
      }
    },
    {
      "cell_type": "code",
      "source": [
        "stok = [\n",
        "    [\"Buku\", 20],\n",
        "    [\"Pulpen\", 35],\n",
        "    [\"Penghapus\", 15]\n",
        "]\n",
        "\n",
        "print(\"Daftar Stok Barang:\")\n",
        "for item in stok:\n",
        "  print(f\"- {item[0]}: {item[1]} buah\")\n",
        "\n",
        "barang_terbanyak = stok[0]\n",
        "\n",
        "for item in stok:\n",
        "  if item[1] > barang_terbanyak[1]:\n",
        "    barang_terbanyak = item\n",
        "\n",
        "print(\"\\nBarang dengan stok terbanyak:\")\n",
        "print(f\"{barang_terbanyak[0]} ({barang_terbanyak[1]} buah)\")\n",
        ""
      ],
      "metadata": {
        "id": "kFx37L0-zvmR",
        "outputId": "1e3f0783-72b4-48b2-d9cc-cbda7772c9f7",
        "colab": {
          "base_uri": "https://localhost:8080/"
        }
      },
      "execution_count": 41,
      "outputs": [
        {
          "output_type": "stream",
          "name": "stdout",
          "text": [
            "Daftar Stok Barang:\n",
            "- Buku: 20 buah\n",
            "- Pulpen: 35 buah\n",
            "- Penghapus: 15 buah\n",
            "\n",
            "Barang dengan stok terbanyak:\n",
            "Pulpen (35 buah)\n"
          ]
        }
      ]
    }
  ]
}