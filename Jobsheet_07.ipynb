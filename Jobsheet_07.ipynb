{
  "nbformat": 4,
  "nbformat_minor": 0,
  "metadata": {
    "colab": {
      "provenance": [],
      "authorship_tag": "ABX9TyMTtoBLCI7lhxOjpaNvsj2n",
      "include_colab_link": true
    },
    "kernelspec": {
      "name": "python3",
      "display_name": "Python 3"
    },
    "language_info": {
      "name": "python"
    }
  },
  "cells": [
    {
      "cell_type": "markdown",
      "metadata": {
        "id": "view-in-github",
        "colab_type": "text"
      },
      "source": [
        "<a href=\"https://colab.research.google.com/github/mikhael2104/Algoritma_dan_Pemrograman/blob/main/Jobsheet_07.ipynb\" target=\"_parent\"><img src=\"https://colab.research.google.com/assets/colab-badge.svg\" alt=\"Open In Colab\"/></a>"
      ]
    },
    {
      "cell_type": "markdown",
      "source": [
        "# Praktikum 1 - Tuple: Data tetap yang tidak bisa diubah"
      ],
      "metadata": {
        "id": "yIqMS3JxW5Uq"
      }
    },
    {
      "cell_type": "code",
      "execution_count": null,
      "metadata": {
        "id": "ZapcrDQrW1ER",
        "outputId": "81da3d68-4d79-465c-ebbe-b75dfebdb002",
        "colab": {
          "base_uri": "https://localhost:8080/"
        }
      },
      "outputs": [
        {
          "output_type": "stream",
          "name": "stdout",
          "text": [
            "Lintang: 7.05\n",
            "Bujur: 110.44\n"
          ]
        }
      ],
      "source": [
        "koordinat = (7.05, 110.44)\n",
        "print(\"Lintang:\", koordinat[0])\n",
        "print(\"Bujur:\", koordinat[1])\n"
      ]
    },
    {
      "cell_type": "markdown",
      "source": [
        "# Praktikum 2 - Dictionary Dasar: Menyimpan Data Mahasiswa"
      ],
      "metadata": {
        "id": "ho3VfRJnXvHs"
      }
    },
    {
      "cell_type": "code",
      "source": [
        "mahasiswa = {\n",
        "    \"NIM\" : \"20251001\",\n",
        "    \"Nama\" : \"Andi\",\n",
        "    \"Prodi\" : \"TRK\"\n",
        "}\n",
        "\n",
        "print(\"NIM:\", mahasiswa[\"NIM\"])\n",
        "print(\"Nama:\", mahasiswa[\"Nama\"])\n",
        "print(\"Prodi:\", mahasiswa[\"Prodi\"])"
      ],
      "metadata": {
        "id": "KyGrciqIX2TD",
        "outputId": "78b1c063-e239-4940-857a-aae8ff575df2",
        "colab": {
          "base_uri": "https://localhost:8080/"
        }
      },
      "execution_count": null,
      "outputs": [
        {
          "output_type": "stream",
          "name": "stdout",
          "text": [
            "NIM: 20251001\n",
            "Nama: Andi\n",
            "Prodi: TRK\n"
          ]
        }
      ]
    },
    {
      "cell_type": "markdown",
      "source": [
        "# Praktikum 3 - Operasi pada dictionary"
      ],
      "metadata": {
        "id": "hWjOTDM1YUY7"
      }
    },
    {
      "cell_type": "code",
      "source": [
        "mahasiswa = {\n",
        "    \"NIM\" : \"20251001\",\n",
        "    \"Nama\" : \"Andi\",\n",
        "    \"Prodi\" : \"TRK\"\n",
        "}\n",
        "\n",
        "mahasiswa[\"Umur\"] = 20                  #menambahkan data umur\n",
        "mahasiswa[\"Prodi\"] = \"Teknik Komputer\"  #melakukan update pada data prodi\n",
        "del mahasiswa[\"NIM\"]                    #menghapus data NIM\n",
        "\n",
        "print(mahasiswa)"
      ],
      "metadata": {
        "id": "eghRD-TaYomd",
        "outputId": "39d3a1f9-3197-41a7-b987-ea840821dc58",
        "colab": {
          "base_uri": "https://localhost:8080/"
        }
      },
      "execution_count": null,
      "outputs": [
        {
          "output_type": "stream",
          "name": "stdout",
          "text": [
            "{'Nama': 'Andi', 'Prodi': 'Teknik Komputer', 'Umur': 20}\n"
          ]
        }
      ]
    },
    {
      "cell_type": "markdown",
      "source": [
        "# Praktikum 4 - Set dan Operasi Himpunan"
      ],
      "metadata": {
        "id": "sIium7RcZiBH"
      }
    },
    {
      "cell_type": "code",
      "source": [
        "A = {1, 2, 3, 4}\n",
        "B = {3, 4, 5, 6}\n",
        "\n",
        "print(\"Union:\", A | B)\n",
        "print(\"Intersection:\", A & B)\n",
        "print(\"Difference:\", A - B)"
      ],
      "metadata": {
        "id": "-exPAaOoaNIP",
        "outputId": "234c999f-4539-4f77-aace-33be7e0742ba",
        "colab": {
          "base_uri": "https://localhost:8080/"
        }
      },
      "execution_count": null,
      "outputs": [
        {
          "output_type": "stream",
          "name": "stdout",
          "text": [
            "Union: {1, 2, 3, 4, 5, 6}\n",
            "Intersection: {3, 4}\n",
            "Difference: {1, 2}\n"
          ]
        }
      ]
    },
    {
      "cell_type": "markdown",
      "source": [
        "# Praktikum 5 - Studi Kasus: Data Mahasiswa dan Mata Kuliah"
      ],
      "metadata": {
        "id": "h5zGh3KUaxiB"
      }
    },
    {
      "cell_type": "code",
      "source": [
        "mhs1 = {\"Algoritma\", \"Matematika\", \"Bahasa Inggris\"}\n",
        "mhs2 = {\"Algoritma\", \"Basis Data\", \"Matematika\"}\n",
        "\n",
        "print(\"Mata kuliah Mhs1:\", mhs1)\n",
        "print(\"Mata kuliah Mhs2:\", mhs2)\n",
        "print(\"Mata kuliah yang sama:\", mhs1 & mhs2)"
      ],
      "metadata": {
        "id": "5C--aSWba3Qw",
        "outputId": "366f2a93-0bce-421e-d578-ea9bdb2f520e",
        "colab": {
          "base_uri": "https://localhost:8080/"
        }
      },
      "execution_count": null,
      "outputs": [
        {
          "output_type": "stream",
          "name": "stdout",
          "text": [
            "Mata kuliah Mhs1: {'Bahasa Inggris', 'Algoritma', 'Matematika'}\n",
            "Mata kuliah Mhs2: {'Matematika', 'Algoritma', 'Basis Data'}\n",
            "Mata kuliah yang sama: {'Algoritma', 'Matematika'}\n"
          ]
        }
      ]
    },
    {
      "cell_type": "markdown",
      "source": [
        "# Praktikum 6 - Studi Kasus Dictionary: Daftar Nilai Mahasiswa"
      ],
      "metadata": {
        "id": "peiToABtbPx9"
      }
    },
    {
      "cell_type": "code",
      "source": [
        "nilai_mahasiswa = {\n",
        "    \"Andi\": 80,\n",
        "    \"Budi\": 75,\n",
        "    \"Cici\": 90\n",
        "}\n",
        "\n",
        "for nama, nilai in nilai_mahasiswa.items():\n",
        "  print(f\"{nama}: {nilai}\")\n",
        "\n",
        "rata = sum(nilai_mahasiswa.values()) / len(nilai_mahasiswa)\n",
        "print(f\"Rata-rata nilai: {rata:.2f}\")\n"
      ],
      "metadata": {
        "id": "Br5JlHrlbXjj",
        "outputId": "9a554d3d-9b65-4dae-e086-1d1cb47a3219",
        "colab": {
          "base_uri": "https://localhost:8080/"
        }
      },
      "execution_count": null,
      "outputs": [
        {
          "output_type": "stream",
          "name": "stdout",
          "text": [
            "Andi: 80\n",
            "Budi: 75\n",
            "Cici: 90\n",
            "Rata-rata nilai: 81.67\n"
          ]
        }
      ]
    },
    {
      "cell_type": "markdown",
      "source": [
        "# **Bagian Penugasan**"
      ],
      "metadata": {
        "id": "mNbi-btndEk_"
      }
    },
    {
      "cell_type": "markdown",
      "source": [
        "# Penugasan 3 - Tuple Sederhana"
      ],
      "metadata": {
        "id": "wxIk4hppdIXd"
      }
    },
    {
      "cell_type": "code",
      "source": [
        "mahasiswa = (\"Mikhael\", \"17\", \"TRK\")\n",
        "\n",
        "print(\"Nama: \",mahasiswa[0])\n",
        "print(\"Umur: \",mahasiswa[1])\n",
        "print(\"Prodi: \",mahasiswa[2])"
      ],
      "metadata": {
        "id": "EJUX4Tl2dH7V",
        "outputId": "ae828f72-9b53-4343-bc5c-245348df7771",
        "colab": {
          "base_uri": "https://localhost:8080/"
        }
      },
      "execution_count": null,
      "outputs": [
        {
          "output_type": "stream",
          "name": "stdout",
          "text": [
            "Nama:  Mikhael\n",
            "Umur:  17\n",
            "Prodi:  TRK\n"
          ]
        }
      ]
    },
    {
      "cell_type": "markdown",
      "source": [
        "# Penugasan 4 - Tuple yang tidak bisa diubah"
      ],
      "metadata": {
        "id": "wCimQRuod8Np"
      }
    },
    {
      "cell_type": "code",
      "source": [
        "\n",
        "angka = (1, 2, 3)\n",
        "\n",
        "angka[0] = 10\n",
        "#Hal ini dapat terjadi karena tuple tidak mengerjakan yang menjadi tugasnya (data tuple adalah fix, jadi tidak bisa diubah). sehingga hasilnya error"
      ],
      "metadata": {
        "id": "q4R-HAdpd92_",
        "outputId": "e546141e-d6b0-43ce-93f1-5a022f1fc496",
        "colab": {
          "base_uri": "https://localhost:8080/",
          "height": 176
        }
      },
      "execution_count": null,
      "outputs": [
        {
          "output_type": "error",
          "ename": "TypeError",
          "evalue": "'tuple' object does not support item assignment",
          "traceback": [
            "\u001b[0;31m---------------------------------------------------------------------------\u001b[0m",
            "\u001b[0;31mTypeError\u001b[0m                                 Traceback (most recent call last)",
            "\u001b[0;32m/tmp/ipython-input-1639734074.py\u001b[0m in \u001b[0;36m<cell line: 0>\u001b[0;34m()\u001b[0m\n\u001b[1;32m      3\u001b[0m \u001b[0;34m\u001b[0m\u001b[0m\n\u001b[1;32m      4\u001b[0m \u001b[0;31m# Mencoba mengubah elemen tuple\u001b[0m\u001b[0;34m\u001b[0m\u001b[0;34m\u001b[0m\u001b[0m\n\u001b[0;32m----> 5\u001b[0;31m \u001b[0mangka\u001b[0m\u001b[0;34m[\u001b[0m\u001b[0;36m0\u001b[0m\u001b[0;34m]\u001b[0m \u001b[0;34m=\u001b[0m \u001b[0;36m10\u001b[0m\u001b[0;34m\u001b[0m\u001b[0;34m\u001b[0m\u001b[0m\n\u001b[0m",
            "\u001b[0;31mTypeError\u001b[0m: 'tuple' object does not support item assignment"
          ]
        }
      ]
    },
    {
      "cell_type": "markdown",
      "source": [
        "# Penugasan 5 - Dictionary Dasar"
      ],
      "metadata": {
        "id": "VEWxFpRpfV49"
      }
    },
    {
      "cell_type": "code",
      "source": [
        "buku = {\n",
        "    \"Judul\" : \"Algoritma\",\n",
        "    \"Penulis\" : \"Munir\",\n",
        "    \"Tahun\" : 2021\n",
        "}\n",
        "\n",
        "print(\"--Buku yang disimpan--\")\n",
        "print(\"Judul: \", buku[\"Judul\"])\n",
        "print(\"Penulis: \", buku[\"Penulis\"])\n",
        "print(\"Tahun: \", buku[\"Tahun\"])"
      ],
      "metadata": {
        "id": "IksMhmqIe-kU",
        "outputId": "db01058d-ea97-432b-c1ed-b0fdc61812ea",
        "colab": {
          "base_uri": "https://localhost:8080/"
        }
      },
      "execution_count": null,
      "outputs": [
        {
          "output_type": "stream",
          "name": "stdout",
          "text": [
            "--Buku yang disimpan--\n",
            "Judul:  Algoritma\n",
            "Penulis:  Munir\n",
            "Tahun:  2021\n"
          ]
        }
      ]
    },
    {
      "cell_type": "markdown",
      "source": [
        "# Penugasan 6 - Operasi Dictionary"
      ],
      "metadata": {
        "id": "ca-D3yC8gIzz"
      }
    },
    {
      "cell_type": "code",
      "source": [
        "dosen = {\n",
        "    \"NIP\" : \"12345\",\n",
        "    \"Nama\" : \"Budi\",\n",
        "    \"Prodi\" : \"TRK\"\n",
        "}\n",
        "\n",
        "dosen[\"Umur\"] = 40\n",
        "dosen[\"Prodi\"] = \"Teknik Komputer\"\n",
        "del dosen[\"Umur\"]\n",
        "\n",
        "print(dosen)"
      ],
      "metadata": {
        "id": "gEH0-Cb-gJQi",
        "outputId": "8e625697-7cbf-488a-80d7-332b5f548b00",
        "colab": {
          "base_uri": "https://localhost:8080/"
        }
      },
      "execution_count": null,
      "outputs": [
        {
          "output_type": "stream",
          "name": "stdout",
          "text": [
            "{'NIP': '12345', 'Nama': 'Budi', 'Prodi': 'Teknik Komputer'}\n"
          ]
        }
      ]
    },
    {
      "cell_type": "markdown",
      "source": [
        "# Penugasan 7 - Set dan Himpunan"
      ],
      "metadata": {
        "id": "MfHb0Y-2g6Fv"
      }
    },
    {
      "cell_type": "code",
      "source": [
        "A = {\"Matematika\", \"Algoritma\", \"Bahasa Inggris\"}\n",
        "B = {\"Algoritma\", \"Basis Data\", \"Bahasa Inggris\"}\n",
        "\n",
        "print(\"Union\", A | B)\n",
        "print(\"Intersection\", A & B)\n",
        "print(\"Difference\", A - B)"
      ],
      "metadata": {
        "id": "NIpcSnQrg6tK",
        "outputId": "757483d2-29c3-4db9-da0f-ddcaea8404e5",
        "colab": {
          "base_uri": "https://localhost:8080/"
        }
      },
      "execution_count": null,
      "outputs": [
        {
          "output_type": "stream",
          "name": "stdout",
          "text": [
            "Union {'Algoritma', 'Matematika', 'Bahasa Inggris', 'Basis Data'}\n",
            "Intersection {'Algoritma', 'Bahasa Inggris'}\n",
            "Difference {'Matematika'}\n"
          ]
        }
      ]
    },
    {
      "cell_type": "markdown",
      "source": [
        "# Penugasan 8 - Studi Kasus Dictionary"
      ],
      "metadata": {
        "id": "P06WnotJjMfL"
      }
    },
    {
      "cell_type": "code",
      "source": [
        "nilai_mahasiswa = {\n",
        "    \"Andi\" : 85,\n",
        "    \"Budi\" : 90,\n",
        "    \"Cici\" : 78\n",
        "}\n",
        "\n",
        "for nama, nilai in nilai_mahasiswa.items():\n",
        "  print(f\"{nama} : {nilai}\")\n",
        "\n",
        "rerata = sum(nilai_mahasiswa.values()) / len(nilai_mahasiswa)\n",
        "print(f\"Nilai Rata-rata Mahasiswa {rerata:.2f}\")\n"
      ],
      "metadata": {
        "id": "nhoIRS3PjNMI",
        "outputId": "9948784a-9902-4ec9-cf3e-6ab67c89c2e3",
        "colab": {
          "base_uri": "https://localhost:8080/"
        }
      },
      "execution_count": null,
      "outputs": [
        {
          "output_type": "stream",
          "name": "stdout",
          "text": [
            "Andi : 85\n",
            "Budi : 90\n",
            "Cici : 78\n",
            "Nilai Rata-rata Mahasiswa 84.33\n",
            "Rata-rata nilai: 84.33\n"
          ]
        }
      ]
    },
    {
      "cell_type": "markdown",
      "source": [
        "# Penugasan 9 - Studi Kasus Set: Klub Mahasiswa"
      ],
      "metadata": {
        "id": "-Ux3nhRSlobm"
      }
    },
    {
      "cell_type": "code",
      "source": [
        "klub_a = {\"Andi\", \"Budi\", \"Cici\"}\n",
        "klub_b = {\"Cici\", \"Deni\", \"Eka\"}\n",
        "\n",
        "print(\"Daftar Seluruh Anggota: \", klub_a | klub_b)\n",
        "print(\"Daftar Anggota yang Ada di Kedua Club: \", klub_a & klub_b)\n",
        "print(\"Anggota yang hanya ada di Klub A tetapi tidak di Klub B: \", klub_a - klub_b)"
      ],
      "metadata": {
        "id": "Nph5CAkhlo5f",
        "outputId": "df250071-5621-4597-8523-3bc1971f466f",
        "colab": {
          "base_uri": "https://localhost:8080/"
        }
      },
      "execution_count": null,
      "outputs": [
        {
          "output_type": "stream",
          "name": "stdout",
          "text": [
            "Daftar Seluruh Anggota:  {'Andi', 'Eka', 'Cici', 'Budi', 'Deni'}\n",
            "Daftar Anggota yang Ada di Kedua Club:  {'Cici'}\n",
            "Anggota yang hanya ada di Klub A tetapi tidak di Klub B:  {'Andi', 'Budi'}\n"
          ]
        }
      ]
    }
  ]
}