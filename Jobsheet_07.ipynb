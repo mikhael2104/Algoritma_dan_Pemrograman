{
  "nbformat": 4,
  "nbformat_minor": 0,
  "metadata": {
    "colab": {
      "provenance": [],
      "authorship_tag": "ABX9TyNM0O+IAOjtDBmS1bQYkeTp",
      "include_colab_link": true
    },
    "kernelspec": {
      "name": "python3",
      "display_name": "Python 3"
    },
    "language_info": {
      "name": "python"
    }
  },
  "cells": [
    {
      "cell_type": "markdown",
      "metadata": {
        "id": "view-in-github",
        "colab_type": "text"
      },
      "source": [
        "<a href=\"https://colab.research.google.com/github/mikhael2104/Algoritma_dan_Pemrograman/blob/main/Jobsheet_07.ipynb\" target=\"_parent\"><img src=\"https://colab.research.google.com/assets/colab-badge.svg\" alt=\"Open In Colab\"/></a>"
      ]
    },
    {
      "cell_type": "markdown",
      "source": [
        "# Praktikum 1 - Tuple: Data tetap yang tidak bisa diubah"
      ],
      "metadata": {
        "id": "yIqMS3JxW5Uq"
      }
    },
    {
      "cell_type": "code",
      "execution_count": 1,
      "metadata": {
        "id": "ZapcrDQrW1ER",
        "outputId": "81da3d68-4d79-465c-ebbe-b75dfebdb002",
        "colab": {
          "base_uri": "https://localhost:8080/"
        }
      },
      "outputs": [
        {
          "output_type": "stream",
          "name": "stdout",
          "text": [
            "Lintang: 7.05\n",
            "Bujur: 110.44\n"
          ]
        }
      ],
      "source": [
        "koordinat = (7.05, 110.44)\n",
        "print(\"Lintang:\", koordinat[0])\n",
        "print(\"Bujur:\", koordinat[1])\n"
      ]
    },
    {
      "cell_type": "markdown",
      "source": [
        "Praktikum 2 - Dictionary Dasar: Menyimpan Data Mahasiswa"
      ],
      "metadata": {
        "id": "ho3VfRJnXvHs"
      }
    },
    {
      "cell_type": "code",
      "source": [
        "mahasiswa = {\n",
        "    \"NIM\" : \"20251001\",\n",
        "    \"Nama\" : \"Andi\",\n",
        "    \"Prodi\" : \"TRK\"\n",
        "}\n",
        "\n",
        "print(\"NIM:\", mahasiswa[\"NIM\"])\n",
        "print(\"Nama:\", mahasiswa[\"Nama\"])\n",
        "print(\"Prodi:\", mahasiswa[\"Prodi\"])"
      ],
      "metadata": {
        "id": "KyGrciqIX2TD",
        "outputId": "78b1c063-e239-4940-857a-aae8ff575df2",
        "colab": {
          "base_uri": "https://localhost:8080/"
        }
      },
      "execution_count": 4,
      "outputs": [
        {
          "output_type": "stream",
          "name": "stdout",
          "text": [
            "NIM: 20251001\n",
            "Nama: Andi\n",
            "Prodi: TRK\n"
          ]
        }
      ]
    },
    {
      "cell_type": "markdown",
      "source": [
        "# Praktikum 3 - Operasi pada dictionary"
      ],
      "metadata": {
        "id": "hWjOTDM1YUY7"
      }
    },
    {
      "cell_type": "code",
      "source": [
        "mahasiswa = {\n",
        "    \"NIM\" : \"20251001\",\n",
        "    \"Nama\" : \"Andi\",\n",
        "    \"Prodi\" : \"TRK\"\n",
        "}\n",
        "\n",
        "mahasiswa[\"Umur\"] = 20                  #menambahkan data umur\n",
        "mahasiswa[\"Prodi\"] = \"Teknik Komputer\"  #melakukan update pada data prodi\n",
        "del mahasiswa[\"NIM\"]                    #menghapus data NIM\n",
        "\n",
        "print(mahasiswa)"
      ],
      "metadata": {
        "id": "eghRD-TaYomd",
        "outputId": "39d3a1f9-3197-41a7-b987-ea840821dc58",
        "colab": {
          "base_uri": "https://localhost:8080/"
        }
      },
      "execution_count": 5,
      "outputs": [
        {
          "output_type": "stream",
          "name": "stdout",
          "text": [
            "{'Nama': 'Andi', 'Prodi': 'Teknik Komputer', 'Umur': 20}\n"
          ]
        }
      ]
    },
    {
      "cell_type": "markdown",
      "source": [
        "# Praktikum 4 - Set dan Operasi Himpunan"
      ],
      "metadata": {
        "id": "sIium7RcZiBH"
      }
    },
    {
      "cell_type": "code",
      "source": [
        "A = {1, 2, 3, 4}\n",
        "B = {3, 4, 5, 6}\n",
        "\n",
        "print(\"Union:\", A | B)\n",
        "print(\"Intersection:\", A & B)\n",
        "print(\"Difference:\", A - B)"
      ],
      "metadata": {
        "id": "-exPAaOoaNIP",
        "outputId": "234c999f-4539-4f77-aace-33be7e0742ba",
        "colab": {
          "base_uri": "https://localhost:8080/"
        }
      },
      "execution_count": 7,
      "outputs": [
        {
          "output_type": "stream",
          "name": "stdout",
          "text": [
            "Union: {1, 2, 3, 4, 5, 6}\n",
            "Intersection: {3, 4}\n",
            "Difference: {1, 2}\n"
          ]
        }
      ]
    },
    {
      "cell_type": "markdown",
      "source": [
        "# Praktikum 5 - Studi Kasus: Data Mahasiswa dan Mata Kuliah"
      ],
      "metadata": {
        "id": "h5zGh3KUaxiB"
      }
    },
    {
      "cell_type": "code",
      "source": [
        "mhs1 = {\"Algoritma\", \"Matematika\", \"Bahasa Inggris\"}\n",
        "mhs2 = {\"Algoritma\", \"Basis Data\", \"Matematika\"}\n",
        "\n",
        "print(\"Mata kuliah Mhs1:\", mhs1)\n",
        "print(\"Mata kuliah Mhs2:\", mhs2)\n",
        "print(\"Mata kuliah yang sama:\", mhs1 & mhs2)"
      ],
      "metadata": {
        "id": "5C--aSWba3Qw",
        "outputId": "366f2a93-0bce-421e-d578-ea9bdb2f520e",
        "colab": {
          "base_uri": "https://localhost:8080/"
        }
      },
      "execution_count": 8,
      "outputs": [
        {
          "output_type": "stream",
          "name": "stdout",
          "text": [
            "Mata kuliah Mhs1: {'Bahasa Inggris', 'Algoritma', 'Matematika'}\n",
            "Mata kuliah Mhs2: {'Matematika', 'Algoritma', 'Basis Data'}\n",
            "Mata kuliah yang sama: {'Algoritma', 'Matematika'}\n"
          ]
        }
      ]
    },
    {
      "cell_type": "markdown",
      "source": [
        "# Praktikum 6 - Studi Kasus Dictionary: Daftar Nilai Mahasiswa"
      ],
      "metadata": {
        "id": "peiToABtbPx9"
      }
    },
    {
      "cell_type": "code",
      "source": [
        "nilai_mahasiswa = {\n",
        "    \"Andi\": 80,\n",
        "    \"Budi\": 75,\n",
        "    \"Cici\": 90\n",
        "}\n",
        "\n",
        "for nama, nilai in nilai_mahasiswa.items():\n",
        "  print(f\"{nama}: {nilai}\")\n",
        "\n",
        "rata = sum(nilai_mahasiswa.values()) / len(nilai_mahasiswa)\n",
        "print(f\"Rata-rata nilai: {rata:.2f}\")\n"
      ],
      "metadata": {
        "id": "Br5JlHrlbXjj",
        "outputId": "9a554d3d-9b65-4dae-e086-1d1cb47a3219",
        "colab": {
          "base_uri": "https://localhost:8080/"
        }
      },
      "execution_count": 9,
      "outputs": [
        {
          "output_type": "stream",
          "name": "stdout",
          "text": [
            "Andi: 80\n",
            "Budi: 75\n",
            "Cici: 90\n",
            "Rata-rata nilai: 81.67\n"
          ]
        }
      ]
    }
  ]
}